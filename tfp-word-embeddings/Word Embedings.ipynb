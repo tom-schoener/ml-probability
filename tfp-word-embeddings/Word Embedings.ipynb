{
 "cells": [
  {
   "cell_type": "code",
   "execution_count": 1,
   "metadata": {},
   "outputs": [
    {
     "name": "stdout",
     "output_type": "stream",
     "text": [
      "Tensorflow Version: 1.13.1\n"
     ]
    }
   ],
   "source": [
    "%matplotlib inline\n",
    "import matplotlib.pyplot as plt\n",
    "from mpl_toolkits.mplot3d import Axes3D  # noqa: F401 unused import\n",
    "\n",
    "import pandas as pd\n",
    "import numpy as np\n",
    "import tensorflow as tf\n",
    "from tensorflow.keras.datasets import imdb\n",
    "\n",
    "keras = tf.keras\n",
    "\n",
    "print(\"Tensorflow Version: \" + tf.VERSION)"
   ]
  },
  {
   "cell_type": "markdown",
   "metadata": {},
   "source": [
    "# IMDB Dataset \n",
    "https://keras.io/datasets/#imdb-movie-reviews-sentiment-classification"
   ]
  },
  {
   "cell_type": "code",
   "execution_count": 7,
   "metadata": {
    "slideshow": {
     "slide_type": "-"
    }
   },
   "outputs": [],
   "source": [
    "# imdb data\n",
    "\n",
    "INDEX_FROM=0   # word index offset\n",
    "\n",
    "(x_train, y_train), (x_test, y_test) = imdb.load_data(index_from=INDEX_FROM)\n",
    "\n",
    "# word index\n",
    "word_index = imdb.get_word_index()\n",
    "word_to_id = {k: (v + INDEX_FROM) for k, v in word_index.items()}\n",
    "word_index[\"<PAD>\"] = 0\n",
    "word_index[\"<START>\"] = 1\n",
    "word_index[\"<UNK>\"] = 2\n",
    "\n",
    "word_index_inv = {v: k for k, v in word_index.items()}\n",
    "\n",
    "def encoded_vector2sentence(vec, word_index_inv = word_index_inv):\n",
    "    sentence = map(lambda i: word_index_inv[i], vec)\n",
    "    return \" \".join(sentence)\n",
    "\n",
    "def pad_input(vec, maxlen):\n",
    "    return keras.preprocessing.sequence.pad_sequences(vec, maxlen=maxlen, padding='post')\n",
    "\n",
    "def sentence2encoded_vec(sentence):\n",
    "    sentence_arr = sentence.split(\" \")\n",
    "    return list(map(lambda word: word_index[word.lower()], sentence_arr))"
   ]
  },
  {
   "cell_type": "code",
   "execution_count": 9,
   "metadata": {},
   "outputs": [
    {
     "name": "stdout",
     "output_type": "stream",
     "text": [
      "Found 400000 word vectors.\n"
     ]
    }
   ],
   "source": [
    "import os\n",
    "\n",
    "# Pretrained Word Embedding\n",
    "GLOVE_DIR = \"D:/google drive/haw/master/mastertheisis/hauptprojekt\"\n",
    "EMBEDDING_DIM = 50\n",
    "\n",
    "embeddings_index = {}\n",
    "f = open(os.path.join(GLOVE_DIR, 'glove.6B.50d.txt'), encoding=\"utf8\")\n",
    "for line in f:\n",
    "    values = line.split()\n",
    "    word = values[0]\n",
    "    coefs = np.asarray(values[1:], dtype='float32')\n",
    "    embeddings_index[word] = coefs\n",
    "f.close()\n",
    "\n",
    "print('Found %s word vectors.' % len(embeddings_index))"
   ]
  },
  {
   "cell_type": "code",
   "execution_count": 10,
   "metadata": {},
   "outputs": [
    {
     "name": "stdout",
     "output_type": "stream",
     "text": [
      "16188/88587 unknown words\n"
     ]
    }
   ],
   "source": [
    "# match the word index with the word_embedding index\n",
    "import re\n",
    "\n",
    "regex = re.compile('[^a-zA-Z]')\n",
    "def normalize_word(word):\n",
    "    # return regex.sub('', word)\n",
    "    return word.replace(\"'s\", \"\").replace(\"'\", \"\")\n",
    "\n",
    "n_unknown_words = 0\n",
    "embedding_matrix = np.zeros((len(word_index) + 1, EMBEDDING_DIM))\n",
    "for word, i in word_index.items():\n",
    "    embedding_vector = embeddings_index.get(normalize_word(word))\n",
    "    if embedding_vector is not None:\n",
    "        # words not found in embedding index will be all-zeros.\n",
    "        embedding_matrix[i] = embedding_vector\n",
    "    else:\n",
    "        n_unknown_words += 1\n",
    "\n",
    "print(\"{}/{} unknown words\".format(n_unknown_words, len(word_index)))"
   ]
  },
  {
   "cell_type": "code",
   "execution_count": 11,
   "metadata": {
    "scrolled": false
   },
   "outputs": [
    {
     "name": "stdout",
     "output_type": "stream",
     "text": [
      "[1, 11, 19, 13, 40, 527, 970, 1619, 1382, 62, 455, 4465, 63, 3938, 1, 170, 33, 253, 2, 22, 97, 40, 835, 109, 47, 667, 22662, 6, 32, 477, 281, 2, 147, 1, 169, 109, 164, 21628, 333, 382, 36, 1, 169, 4533, 1108, 14, 543, 35, 10, 444, 1, 189, 47, 13, 3, 144, 2022, 16, 11, 19, 1, 1917, 4610, 466, 1, 19, 68, 84, 9, 13, 40, 527, 35, 73, 12, 10, 1244, 1, 19, 14, 512, 14, 9, 13, 623, 15, 19190, 2, 59, 383, 9, 5, 313, 5, 103, 2, 1, 2220, 5241, 13, 477, 63, 3782, 30, 1, 127, 9, 13, 35, 616, 2, 22, 121, 48, 33, 132, 45, 22, 1412, 30, 3, 19, 9, 212, 25, 74, 49, 2, 11, 404, 13, 79, 10308, 5, 1, 104, 114, 5949, 12, 253, 1, 31047, 4, 3763, 2, 720, 33, 68, 40, 527, 473, 23, 397, 314, 43, 4, 1, 12115, 1026, 10, 101, 85, 1, 378, 12, 294, 95, 29, 2068, 53, 23, 138, 3, 191, 7483, 15, 1, 223, 19, 18, 131, 473, 23, 477, 2, 141, 27, 5532, 15, 48, 33, 25, 221, 89, 22, 101, 1, 223, 62, 13, 35, 1331, 85, 9, 13, 280, 2, 13, 4469, 110, 100, 29, 12, 13, 5342, 16, 175, 29] 1\n"
     ]
    }
   ],
   "source": [
    "# raw data representation\n",
    "print(x_train[0], y_train[0])"
   ]
  },
  {
   "cell_type": "code",
   "execution_count": 12,
   "metadata": {
    "scrolled": false
   },
   "outputs": [
    {
     "name": "stdout",
     "output_type": "stream",
     "text": [
      "<START> this film was just brilliant casting location scenery story direction everyone's really suited <START> part they played <UNK> you could just imagine being there robert redford's is an amazing actor <UNK> now <START> same being director norman's father came from <START> same scottish island as myself so i loved <START> fact there was a real connection with this film <START> witty remarks throughout <START> film were great it was just brilliant so much that i bought <START> film as soon as it was released for retail <UNK> would recommend it to everyone to watch <UNK> <START> fly fishing was amazing really cried at <START> end it was so sad <UNK> you know what they say if you cry at a film it must have been good <UNK> this definitely was also congratulations to <START> two little boy's that played <START> part's of norman <UNK> paul they were just brilliant children are often left out of <START> praising list i think because <START> stars that play them all grown up are such a big profile for <START> whole film but these children are amazing <UNK> should be praised for what they have done don't you think <START> whole story was so lovely because it was true <UNK> was someone's life after all that was shared with us all\n"
     ]
    }
   ],
   "source": [
    "# parsed sentence\n",
    "print(encoded_vector2sentence(x_train[0]))"
   ]
  },
  {
   "cell_type": "code",
   "execution_count": 13,
   "metadata": {},
   "outputs": [
    {
     "data": {
      "text/plain": [
       "array([ 1, 11, 19, ...,  0,  0,  0])"
      ]
     },
     "execution_count": 13,
     "metadata": {},
     "output_type": "execute_result"
    }
   ],
   "source": [
    "# Max Input Length\n",
    "max_length = max(map(lambda vec: len(vec), x_train + x_test))\n",
    "\n",
    "# pad input vectors\n",
    "x_train_padded = pad_input(x_train, max_length)\n",
    "x_test_padded = pad_input(x_test, max_length)\n",
    "x_train_padded[0]"
   ]
  },
  {
   "cell_type": "code",
   "execution_count": 15,
   "metadata": {},
   "outputs": [
    {
     "name": "stdout",
     "output_type": "stream",
     "text": [
      "_________________________________________________________________\n",
      "Layer (type)                 Output Shape              Param #   \n",
      "=================================================================\n",
      "embedding_1 (Embedding)      (None, 2697, 50)          4429400   \n",
      "_________________________________________________________________\n",
      "flatten_1 (Flatten)          (None, 134850)            0         \n",
      "_________________________________________________________________\n",
      "dense_2 (Dense)              (None, 200)               26970200  \n",
      "_________________________________________________________________\n",
      "dense_3 (Dense)              (None, 1)                 201       \n",
      "=================================================================\n",
      "Total params: 31,399,801\n",
      "Trainable params: 26,970,401\n",
      "Non-trainable params: 4,429,400\n",
      "_________________________________________________________________\n",
      "None\n"
     ]
    }
   ],
   "source": [
    "# https://machinelearningmastery.com/use-word-embedding-layers-deep-learning-keras/\n",
    "\n",
    "embedding_layer = keras.layers.Embedding(len(word_index) + 1,\n",
    "                            EMBEDDING_DIM,\n",
    "                            weights=[embedding_matrix],\n",
    "                            input_length=max_length,\n",
    "                            trainable=False)\n",
    "\n",
    "model = keras.Sequential([\n",
    "    embedding_layer,\n",
    "    keras.layers.Flatten(),\n",
    "    keras.layers.Dense(200, activation='relu'),\n",
    "    keras.layers.Dense(1, activation='sigmoid')\n",
    "])\n",
    "\n",
    "model.compile(optimizer='adam', loss='binary_crossentropy', metrics=['acc'])\n",
    "print(model.summary())"
   ]
  },
  {
   "cell_type": "code",
   "execution_count": 16,
   "metadata": {
    "scrolled": false
   },
   "outputs": [
    {
     "name": "stdout",
     "output_type": "stream",
     "text": [
      "Train on 17500 samples, validate on 7500 samples\n",
      "WARNING:tensorflow:From C:\\Users\\Tom\\Anaconda3\\envs\\ml\\lib\\site-packages\\tensorflow\\python\\ops\\math_ops.py:3066: to_int32 (from tensorflow.python.ops.math_ops) is deprecated and will be removed in a future version.\n",
      "Instructions for updating:\n",
      "Use tf.cast instead.\n",
      "Epoch 1/10\n",
      "17500/17500 [==============================] - 19s 1ms/sample - loss: 0.6400 - acc: 0.6662 - val_loss: 0.5787 - val_acc: 0.7003\n",
      "Epoch 2/10\n",
      "17500/17500 [==============================] - 18s 1ms/sample - loss: 0.4597 - acc: 0.7810 - val_loss: 0.5930 - val_acc: 0.7064\n",
      "Epoch 3/10\n",
      "17500/17500 [==============================] - 18s 1ms/sample - loss: 0.3396 - acc: 0.8495 - val_loss: 0.6575 - val_acc: 0.7041\n",
      "Epoch 4/10\n",
      "17500/17500 [==============================] - 18s 1ms/sample - loss: 0.2462 - acc: 0.8953 - val_loss: 0.7853 - val_acc: 0.6948\n",
      "Epoch 5/10\n",
      "17500/17500 [==============================] - 18s 1ms/sample - loss: 0.1619 - acc: 0.9382 - val_loss: 1.0135 - val_acc: 0.6821\n",
      "Epoch 6/10\n",
      "17500/17500 [==============================] - 18s 1ms/sample - loss: 0.0973 - acc: 0.9676 - val_loss: 1.0736 - val_acc: 0.6959\n",
      "Epoch 7/10\n",
      "17500/17500 [==============================] - 18s 1ms/sample - loss: 0.0675 - acc: 0.9808 - val_loss: 1.2626 - val_acc: 0.6908\n",
      "Epoch 8/10\n",
      "17500/17500 [==============================] - 18s 1ms/sample - loss: 0.0390 - acc: 0.9887 - val_loss: 1.6087 - val_acc: 0.6909\n",
      "Epoch 9/10\n",
      "17500/17500 [==============================] - 18s 1ms/sample - loss: 0.0329 - acc: 0.9927 - val_loss: 1.6303 - val_acc: 0.6916\n",
      "Epoch 10/10\n",
      "17500/17500 [==============================] - 18s 1ms/sample - loss: 0.0199 - acc: 0.9951 - val_loss: 1.8171 - val_acc: 0.6860\n",
      "25000/25000 [==============================] - 3s 118us/sample - loss: 0.5553 - acc: 0.9034\n",
      "Accuracy: 90.340000\n",
      "Loss: 0.555347\n"
     ]
    }
   ],
   "source": [
    "tb_callback = keras.callbacks.TensorBoard(\n",
    "    log_dir='./logs', \n",
    "    histogram_freq=0,\n",
    "    write_graph=True, \n",
    "    write_images=True) \n",
    "\n",
    "model.fit(x_train_padded, y_train, validation_split=0.3, epochs=10, callbacks=[tb_callback])\n",
    "loss, accuracy = model.evaluate(x_train_padded, y_train)\n",
    "print('Accuracy: %f' % (accuracy*100))\n",
    "print('Loss: %f' % loss)"
   ]
  },
  {
   "cell_type": "code",
   "execution_count": 17,
   "metadata": {},
   "outputs": [],
   "source": [
    "def test_model(x, y):\n",
    "    test_result = np.round(model.predict(x))\n",
    "    test_errors = np.squeeze(test_result) != y\n",
    "    correct_percentage = np.sum(test_errors) / len(y)\n",
    "    print(\"%i / %i (%.2f%%) are correct\" % (len(y) - np.sum(test_errors), len(y), 100 * (1 - correct_percentage)))"
   ]
  },
  {
   "cell_type": "code",
   "execution_count": 18,
   "metadata": {
    "scrolled": true
   },
   "outputs": [
    {
     "name": "stdout",
     "output_type": "stream",
     "text": [
      "16919 / 25000 (67.68%) are correct\n"
     ]
    }
   ],
   "source": [
    "test_model(x_test_padded, y_test)"
   ]
  },
  {
   "cell_type": "code",
   "execution_count": 19,
   "metadata": {},
   "outputs": [
    {
     "name": "stdout",
     "output_type": "stream",
     "text": [
      "0 / 1 (0.00%) are correct\n"
     ]
    }
   ],
   "source": [
    "sample_vecs = pad_input([sentence2encoded_vec(\"this was a very bad movie\")], max_length)\n",
    "test_model(sample_vecs, [[0]])"
   ]
  },
  {
   "cell_type": "code",
   "execution_count": 20,
   "metadata": {},
   "outputs": [
    {
     "data": {
      "text/plain": [
       "<mpl_toolkits.mplot3d.art3d.Path3DCollection at 0x1f8eedc4940>"
      ]
     },
     "execution_count": 20,
     "metadata": {},
     "output_type": "execute_result"
    },
    {
     "data": {
      "image/png": "[encoded data removed]",
      "text/plain": [
       "<Figure size 432x288 with 1 Axes>"
      ]
     },
     "metadata": {
      "needs_background": "light"
     },
     "output_type": "display_data"
    }
   ],
   "source": [
    "embeding_weights = model.layers[0].get_weights()\n",
    "\n",
    "\n",
    "fig = plt.figure()\n",
    "ax = fig.add_subplot(111, projection='3d')\n",
    "x = np.transpose(embeding_weights)[0][:1000]\n",
    "y = np.transpose(embeding_weights)[1][:1000]\n",
    "z = np.transpose(embeding_weights)[2][:1000]\n",
    "ax.scatter(x, y, z, alpha=0.4)"
   ]
  }
 ],
 "metadata": {
  "kernelspec": {
   "display_name": "Python [conda env:ml]",
   "language": "python",
   "name": "conda-env-ml-py"
  },
  "language_info": {
   "codemirror_mode": {
    "name": "ipython",
    "version": 3
   },
   "file_extension": ".py",
   "mimetype": "text/x-python",
   "name": "python",
   "nbconvert_exporter": "python",
   "pygments_lexer": "ipython3",
   "version": "3.6.6"
  }
 },
 "nbformat": 4,
 "nbformat_minor": 2
}
