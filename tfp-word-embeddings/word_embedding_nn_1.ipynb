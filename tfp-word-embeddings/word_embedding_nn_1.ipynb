{
 "cells": [
  {
   "cell_type": "markdown",
   "metadata": {},
   "source": [
    "# NN with dropout"
   ]
  },
  {
   "cell_type": "code",
   "execution_count": 2,
   "metadata": {},
   "outputs": [
    {
     "name": "stdout",
     "output_type": "stream",
     "text": [
      "Tensorflow Version: 1.13.1\n"
     ]
    }
   ],
   "source": [
    "%matplotlib inline\n",
    "\n",
    "from commons import load_glove_embedding, pad_input, load_imdb, get_max_length, WordIndex, Rating\n",
    "\n",
    "import matplotlib.pyplot as plt\n",
    "import numpy as np\n",
    "import tensorflow as tf\n",
    "\n",
    "keras = tf.keras\n",
    "\n",
    "print(\"Tensorflow Version: \" + tf.VERSION)"
   ]
  },
  {
   "cell_type": "code",
   "execution_count": 3,
   "metadata": {
    "slideshow": {
     "slide_type": "-"
    }
   },
   "outputs": [],
   "source": [
    "# imdb data\n",
    "imdb = load_imdb()"
   ]
  },
  {
   "cell_type": "code",
   "execution_count": 4,
   "metadata": {},
   "outputs": [],
   "source": [
    "(x_train, y_train), (x_test, y_test) = imdb\n",
    "word_index = WordIndex()"
   ]
  },
  {
   "cell_type": "code",
   "execution_count": 5,
   "metadata": {},
   "outputs": [
    {
     "name": "stdout",
     "output_type": "stream",
     "text": [
      "Found 400000 word vectors.\n"
     ]
    }
   ],
   "source": [
    "# GLOVE Word Embedding\n",
    "GLOVE_DIR = \"D:/google drive/haw/master/mastertheisis/hauptprojekt\"\n",
    "EMBEDDING_DIM = 50\n",
    "embedding_index = load_glove_embedding(GLOVE_DIR, EMBEDDING_DIM)"
   ]
  },
  {
   "cell_type": "code",
   "execution_count": 6,
   "metadata": {},
   "outputs": [
    {
     "name": "stdout",
     "output_type": "stream",
     "text": [
      "28437/88587 unknown words\n"
     ]
    }
   ],
   "source": [
    "(embedding_matrix, unknown_words) = word_index.match_glove(embedding_index=embedding_index, embedding_dim=EMBEDDING_DIM)"
   ]
  },
  {
   "cell_type": "code",
   "execution_count": 7,
   "metadata": {
    "scrolled": false
   },
   "outputs": [
    {
     "name": "stdout",
     "output_type": "stream",
     "text": [
      "[1, 11, 19, 13, 40, 527, 970, 1619, 1382, 62, 455, 4465, 63, 3938, 1, 170, 33, 253, 2, 22, 97, 40, 835, 109, 47, 667, 22662, 6, 32, 477, 281, 2, 147, 1, 169, 109, 164, 21628, 333, 382, 36, 1, 169, 4533, 1108, 14, 543, 35, 10, 444, 1, 189, 47, 13, 3, 144, 2022, 16, 11, 19, 1, 1917, 4610, 466, 1, 19, 68, 84, 9, 13, 40, 527, 35, 73, 12, 10, 1244, 1, 19, 14, 512, 14, 9, 13, 623, 15, 19190, 2, 59, 383, 9, 5, 313, 5, 103, 2, 1, 2220, 5241, 13, 477, 63, 3782, 30, 1, 127, 9, 13, 35, 616, 2, 22, 121, 48, 33, 132, 45, 22, 1412, 30, 3, 19, 9, 212, 25, 74, 49, 2, 11, 404, 13, 79, 10308, 5, 1, 104, 114, 5949, 12, 253, 1, 31047, 4, 3763, 2, 720, 33, 68, 40, 527, 473, 23, 397, 314, 43, 4, 1, 12115, 1026, 10, 101, 85, 1, 378, 12, 294, 95, 29, 2068, 53, 23, 138, 3, 191, 7483, 15, 1, 223, 19, 18, 131, 473, 23, 477, 2, 141, 27, 5532, 15, 48, 33, 25, 221, 89, 22, 101, 1, 223, 62, 13, 35, 1331, 85, 9, 13, 280, 2, 13, 4469, 110, 100, 29, 12, 13, 5342, 16, 175, 29] 1\n"
     ]
    }
   ],
   "source": [
    "# raw data representation\n",
    "print(x_train[0], y_train[0])"
   ]
  },
  {
   "cell_type": "code",
   "execution_count": 8,
   "metadata": {
    "scrolled": false
   },
   "outputs": [
    {
     "name": "stdout",
     "output_type": "stream",
     "text": [
      "<START> this film was just brilliant casting location scenery story direction everyone's really suited <START> part they played <UNK> you could just imagine being there robert redford's is an amazing actor <UNK> now <START> same being director norman's father came from <START> same scottish island as myself so i loved <START> fact there was a real connection with this film <START> witty remarks throughout <START> film were great it was just brilliant so much that i bought <START> film as soon as it was released for retail <UNK> would recommend it to everyone to watch <UNK> <START> fly fishing was amazing really cried at <START> end it was so sad <UNK> you know what they say if you cry at a film it must have been good <UNK> this definitely was also congratulations to <START> two little boy's that played <START> part's of norman <UNK> paul they were just brilliant children are often left out of <START> praising list i think because <START> stars that play them all grown up are such a big profile for <START> whole film but these children are amazing <UNK> should be praised for what they have done don't you think <START> whole story was so lovely because it was true <UNK> was someone's life after all that was shared with us all\n"
     ]
    }
   ],
   "source": [
    "# parsed sentence\n",
    "print(word_index.vec2sentence(x_train[0]))"
   ]
  },
  {
   "cell_type": "code",
   "execution_count": 9,
   "metadata": {},
   "outputs": [],
   "source": [
    "# max Input Length\n",
    "max_length = get_max_length(x_train, x_test)"
   ]
  },
  {
   "cell_type": "code",
   "execution_count": 10,
   "metadata": {},
   "outputs": [
    {
     "data": {
      "text/plain": [
       "array([ 1, 11, 19, ...,  0,  0,  0])"
      ]
     },
     "execution_count": 10,
     "metadata": {},
     "output_type": "execute_result"
    }
   ],
   "source": [
    "# pad input vectors\n",
    "x_train_padded = pad_input(x_train, max_length)\n",
    "x_test_padded = pad_input(x_test, max_length)\n",
    "x_train_padded[0]"
   ]
  },
  {
   "cell_type": "code",
   "execution_count": 9,
   "metadata": {},
   "outputs": [
    {
     "name": "stdout",
     "output_type": "stream",
     "text": [
      "WARNING:tensorflow:From C:\\Users\\Tom\\Anaconda3\\envs\\ml\\lib\\site-packages\\tensorflow\\python\\ops\\resource_variable_ops.py:435: colocate_with (from tensorflow.python.framework.ops) is deprecated and will be removed in a future version.\n",
      "Instructions for updating:\n",
      "Colocations handled automatically by placer.\n",
      "WARNING:tensorflow:From C:\\Users\\Tom\\Anaconda3\\envs\\ml\\lib\\site-packages\\tensorflow\\python\\keras\\layers\\core.py:143: calling dropout (from tensorflow.python.ops.nn_ops) with keep_prob is deprecated and will be removed in a future version.\n",
      "Instructions for updating:\n",
      "Please use `rate` instead of `keep_prob`. Rate should be set to `rate = 1 - keep_prob`.\n",
      "_________________________________________________________________\n",
      "Layer (type)                 Output Shape              Param #   \n",
      "=================================================================\n",
      "embedding (Embedding)        (None, 2697, 50)          4429400   \n",
      "_________________________________________________________________\n",
      "dropout (Dropout)            (None, 2697, 50)          0         \n",
      "_________________________________________________________________\n",
      "conv1d (Conv1D)              (None, 2683, 64)          48064     \n",
      "_________________________________________________________________\n",
      "dropout_1 (Dropout)          (None, 2683, 64)          0         \n",
      "_________________________________________________________________\n",
      "conv1d_1 (Conv1D)            (None, 2679, 64)          20544     \n",
      "_________________________________________________________________\n",
      "max_pooling1d (MaxPooling1D) (None, 76, 64)            0         \n",
      "_________________________________________________________________\n",
      "dropout_2 (Dropout)          (None, 76, 64)            0         \n",
      "_________________________________________________________________\n",
      "flatten (Flatten)            (None, 4864)              0         \n",
      "_________________________________________________________________\n",
      "dropout_3 (Dropout)          (None, 4864)              0         \n",
      "_________________________________________________________________\n",
      "dense (Dense)                (None, 64)                311360    \n",
      "_________________________________________________________________\n",
      "dropout_4 (Dropout)          (None, 64)                0         \n",
      "_________________________________________________________________\n",
      "dense_1 (Dense)              (None, 1)                 65        \n",
      "=================================================================\n",
      "Total params: 4,809,433\n",
      "Trainable params: 380,033\n",
      "Non-trainable params: 4,429,400\n",
      "_________________________________________________________________\n"
     ]
    }
   ],
   "source": [
    "# https://machinelearningmastery.com/use-word-embedding-layers-deep-learning-keras/\n",
    "\n",
    "embedding_layer = keras.layers.Embedding(len(word_index) + 1,\n",
    "                            EMBEDDING_DIM,\n",
    "                            weights=[embedding_matrix],\n",
    "                            input_length=max_length,\n",
    "                            trainable=False)\n",
    "\n",
    "model = keras.Sequential([\n",
    "    embedding_layer,\n",
    "    keras.layers.Dropout(0.25),\n",
    "    keras.layers.Conv1D(64, 15, activation=\"relu\"),\n",
    "    keras.layers.Dropout(0.25),\n",
    "    keras.layers.Conv1D(64, 5, activation=\"relu\"),\n",
    "    keras.layers.MaxPooling1D(35),\n",
    "    keras.layers.Dropout(0.25),\n",
    "    keras.layers.Flatten(),\n",
    "    keras.layers.Dropout(0.25),\n",
    "    keras.layers.Dense(64, activation='relu'),\n",
    "    keras.layers.Dropout(0.25),\n",
    "    keras.layers.Dense(1, activation='sigmoid')\n",
    "])\n",
    "\n",
    "model.compile(optimizer='adam', loss='binary_crossentropy', metrics=['acc'])\n",
    "model.summary()"
   ]
  },
  {
   "cell_type": "code",
   "execution_count": 10,
   "metadata": {
    "scrolled": false
   },
   "outputs": [
    {
     "name": "stdout",
     "output_type": "stream",
     "text": [
      "Train on 23750 samples, validate on 1250 samples\n",
      "WARNING:tensorflow:From C:\\Users\\Tom\\Anaconda3\\envs\\ml\\lib\\site-packages\\tensorflow\\python\\ops\\math_ops.py:3066: to_int32 (from tensorflow.python.ops.math_ops) is deprecated and will be removed in a future version.\n",
      "Instructions for updating:\n",
      "Use tf.cast instead.\n",
      "Epoch 1/8\n",
      "23750/23750 [==============================] - 23s 974us/sample - loss: 0.5997 - acc: 0.6616 - val_loss: 0.5007 - val_acc: 0.7688\n",
      "Epoch 2/8\n",
      "23750/23750 [==============================] - 21s 873us/sample - loss: 0.4967 - acc: 0.7658 - val_loss: 0.4969 - val_acc: 0.7568\n",
      "Epoch 3/8\n",
      "23750/23750 [==============================] - 21s 893us/sample - loss: 0.4669 - acc: 0.7823 - val_loss: 0.4542 - val_acc: 0.7920\n",
      "Epoch 4/8\n",
      "23750/23750 [==============================] - 21s 894us/sample - loss: 0.4418 - acc: 0.7982 - val_loss: 0.4366 - val_acc: 0.8192\n",
      "Epoch 5/8\n",
      "23750/23750 [==============================] - 21s 895us/sample - loss: 0.4227 - acc: 0.8101 - val_loss: 0.4057 - val_acc: 0.8448\n",
      "Epoch 6/8\n",
      "23750/23750 [==============================] - 21s 874us/sample - loss: 0.4060 - acc: 0.8177 - val_loss: 0.4078 - val_acc: 0.8376\n",
      "Epoch 7/8\n",
      "23750/23750 [==============================] - 21s 895us/sample - loss: 0.3953 - acc: 0.8203 - val_loss: 0.4022 - val_acc: 0.8264\n",
      "Epoch 8/8\n",
      "23750/23750 [==============================] - 22s 910us/sample - loss: 0.3909 - acc: 0.8245 - val_loss: 0.3879 - val_acc: 0.8432\n",
      "25000/25000 [==============================] - 7s 283us/sample - loss: 0.3359 - acc: 0.8784\n"
     ]
    }
   ],
   "source": [
    "tb_callback = keras.callbacks.TensorBoard(\n",
    "    log_dir='./logs', \n",
    "    histogram_freq=0,\n",
    "    write_graph=True, \n",
    "    write_images=True) \n",
    "\n",
    "model.fit(x_train_padded, y_train, validation_split=0.05, epochs=8, callbacks=[tb_callback])\n",
    "loss, accuracy = model.evaluate(x_train_padded, y_train)"
   ]
  },
  {
   "cell_type": "code",
   "execution_count": 11,
   "metadata": {},
   "outputs": [],
   "source": [
    "def test_model(x, y):\n",
    "    test_result = np.round(model.predict(x))\n",
    "    test_errors = np.squeeze(test_result) != y\n",
    "    correct_percentage = np.sum(test_errors) / len(y)\n",
    "    print(\"%i / %i (%.2f%%) are correct\" % (len(y) - np.sum(test_errors), len(y), 100 * (1 - correct_percentage)))"
   ]
  },
  {
   "cell_type": "code",
   "execution_count": 12,
   "metadata": {
    "scrolled": true
   },
   "outputs": [
    {
     "name": "stdout",
     "output_type": "stream",
     "text": [
      "21047 / 25000 (84.19%) are correct\n",
      "21959 / 25000 (87.84%) are correct\n"
     ]
    }
   ],
   "source": [
    "test_model(x_test_padded, y_test)\n",
    "test_model(x_train_padded, y_train)"
   ]
  },
  {
   "cell_type": "code",
   "execution_count": 13,
   "metadata": {},
   "outputs": [
    {
     "name": "stdout",
     "output_type": "stream",
     "text": [
      "⭐ (10.52%)\n",
      "this was a very bad movie\n",
      "\n",
      "⭐⭐⭐⭐⭐⭐⭐⭐⭐ (92.17%)\n",
      "this was a very good movie\n",
      "\n",
      "⭐⭐⭐⭐⭐⭐ (61.35%)\n",
      "I did not like this movie at all\n",
      "\n",
      "⭐⭐⭐⭐⭐⭐ (59.92%)\n",
      "I hope there will be a sequal\n",
      "\n",
      "⭐⭐⭐ (28.61%)\n",
      "not bad\n",
      "\n",
      "⭐⭐⭐⭐⭐ (45.49%)\n",
      "bad\n",
      "\n",
      "⭐⭐⭐⭐⭐⭐ (62.23%)\n",
      "not good\n",
      "\n",
      "⭐⭐⭐⭐⭐⭐⭐⭐ (82.98%)\n",
      "one of the best movies of the year\n",
      "\n",
      "⭐⭐⭐ (34.73%)\n",
      "the first part was bad but the second part got better\n",
      "\n",
      "⭐⭐ (17.59%)\n",
      "the first part was not bad but after that it just got worse\n",
      "\n",
      "⭐⭐⭐⭐⭐⭐⭐⭐⭐⭐ (95.59%)\n",
      "this film was just brilliant casting location scenery story direction everyone's really suited part they played you could just imagine being there robert redford's is an amazing actor now same being director norman's father came from same scottish island as myself so i loved fact there was a real connection with this film witty remarks throughout film were great it was just brilliant so much that i bought\n",
      "\n"
     ]
    }
   ],
   "source": [
    "sentences = [\n",
    "    \"this was a very bad movie\",\n",
    "    \"this was a very good movie\",\n",
    "    \"I did not like this movie at all\",\n",
    "    \"I hope there will be a sequal\",\n",
    "    \"not bad\",\n",
    "    \"bad\",\n",
    "    \"not good\",\n",
    "    \"one of the best movies of the year\",\n",
    "    \"the first part was bad but the second part got better\",\n",
    "    \"the first part was not bad but after that it just got worse\",\n",
    "    \"this film was just brilliant casting location scenery story direction everyone's really suited part they played you could just imagine being there robert redford's is an amazing actor now same being director norman's father came from same scottish island as myself so i loved fact there was a real connection with this film witty remarks throughout film were great it was just brilliant so much that i bought\"\n",
    "]\n",
    "\n",
    "rating = Rating(word_index, model)\n",
    "rating.print(rating.of(sentences, max_length))"
   ]
  }
 ],
 "metadata": {
  "kernelspec": {
   "display_name": "Python [conda env:ml]",
   "language": "python",
   "name": "conda-env-ml-py"
  },
  "language_info": {
   "codemirror_mode": {
    "name": "ipython",
    "version": 3
   },
   "file_extension": ".py",
   "mimetype": "text/x-python",
   "name": "python",
   "nbconvert_exporter": "python",
   "pygments_lexer": "ipython3",
   "version": "3.6.6"
  }
 },
 "nbformat": 4,
 "nbformat_minor": 2
}
