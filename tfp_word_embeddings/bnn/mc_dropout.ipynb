{
 "cells": [
  {
   "cell_type": "markdown",
   "metadata": {},
   "source": [
    "# MC Dropout\n",
    "https://github.com/yaringal/DropoutUncertaintyExps/blob/master/net/net.py"
   ]
  },
  {
   "cell_type": "code",
   "execution_count": 1,
   "metadata": {},
   "outputs": [
    {
     "name": "stdout",
     "output_type": "stream",
     "text": [
      "Tensorflow Version: 2.0.0-beta0\n",
      "Tensorflow Probability Version: 0.8.0-dev20190610\n"
     ]
    }
   ],
   "source": [
    "from __future__ import absolute_import\n",
    "from __future__ import division\n",
    "from __future__ import print_function\n",
    "\n",
    "%matplotlib inline\n",
    "\n",
    "import matplotlib.pyplot as plt\n",
    "import numpy as np\n",
    "import tensorflow as tf\n",
    "import tensorflow_probability as tfp\n",
    "\n",
    "keras = tf.keras\n",
    "tfd = tfp.distributions\n",
    "\n",
    "print(\"Tensorflow Version: %s\" % tf.__version__)\n",
    "print(\"Tensorflow Probability Version: %s\" % tfp.__version__)"
   ]
  },
  {
   "cell_type": "code",
   "execution_count": 2,
   "metadata": {},
   "outputs": [
    {
     "data": {
      "text/plain": [
       "<module 'commons' from 'D:\\\\Tom\\\\Documents\\\\gitworkspace\\\\master\\\\ml-probability\\\\tfp_word_embeddings\\\\commons.py'>"
      ]
     },
     "execution_count": 2,
     "metadata": {},
     "output_type": "execute_result"
    }
   ],
   "source": [
    "# commons package\n",
    "import os\n",
    "import sys\n",
    "import importlib\n",
    "\n",
    "module_path = os.path.abspath(os.path.join('..'))\n",
    "if module_path not in sys.path:\n",
    "    sys.path.append(module_path)\n",
    "\n",
    "import commons as cm\n",
    "importlib.reload(cm)"
   ]
  },
  {
   "cell_type": "markdown",
   "metadata": {},
   "source": [
    "# Configuration and Parameters"
   ]
  },
  {
   "cell_type": "code",
   "execution_count": 3,
   "metadata": {},
   "outputs": [],
   "source": [
    "# GloVe Configuration\n",
    "\n",
    "# Directory containing the GloVe files.\n",
    "GLOVE_DIR = \"D:/google drive/haw/master/mastertheisis/hauptprojekt\"\n",
    "\n",
    "# Embedding dimension\n",
    "EMBEDDING_DIM = 50"
   ]
  },
  {
   "cell_type": "code",
   "execution_count": 4,
   "metadata": {},
   "outputs": [],
   "source": [
    "imdb = cm.load_imdb()\n",
    "(x_train, y_train), (x_test, y_test) = imdb"
   ]
  },
  {
   "cell_type": "code",
   "execution_count": 5,
   "metadata": {},
   "outputs": [],
   "source": [
    "# MC Dropout parameters\n",
    "\n",
    "# model save file\n",
    "model_save_file = \"./models/mc_dropout.h5\"\n",
    "\n",
    "# number of data points\n",
    "N = x_train.shape[0]\n",
    "\n",
    "# hidden layers where each element denotes the number of neurons\n",
    "n_hidden = [128, 128]\n",
    "\n",
    "# batch size for training\n",
    "batch_size = 128\n",
    "\n",
    "# training epochs \n",
    "epochs = 6\n",
    "\n",
    "# prior lenght scale\n",
    "lengthscale = 1e-2\n",
    "\n",
    "# dropout rate for all dropout layers in the network, 1. means drop all\n",
    "dropout = 0.5\n",
    "\n",
    "# model precision used for regularization\n",
    "tau = 1.0\n",
    "\n",
    "# regularization\n",
    "reg = lengthscale**2 * (1 - dropout) / (2. * N * tau)\n",
    "\n",
    "# MCMC Samples\n",
    "T = 500"
   ]
  },
  {
   "cell_type": "markdown",
   "metadata": {},
   "source": [
    "# GloVe Word Embedding"
   ]
  },
  {
   "cell_type": "code",
   "execution_count": 6,
   "metadata": {},
   "outputs": [
    {
     "name": "stdout",
     "output_type": "stream",
     "text": [
      "Found 400000 word vectors.\n",
      "17361/88587 unknown words\n"
     ]
    }
   ],
   "source": [
    "# GLOVE Word Embedding\n",
    "word_index = cm.WordIndex()\n",
    "embedding_index = cm.load_glove_embedding(GLOVE_DIR, EMBEDDING_DIM)\n",
    "(embedding_matrix, unknown_words) = word_index.match_glove(embedding_index=embedding_index, embedding_dim=EMBEDDING_DIM)\n",
    "max_length = cm.get_max_length(x_train, x_test)"
   ]
  },
  {
   "cell_type": "code",
   "execution_count": 7,
   "metadata": {},
   "outputs": [],
   "source": [
    "# pad input vectors\n",
    "x_train_padded = cm.pad_input(x_train, max_length)\n",
    "x_test_padded = cm.pad_input(x_test, max_length)"
   ]
  },
  {
   "cell_type": "markdown",
   "metadata": {},
   "source": [
    "# Model"
   ]
  },
  {
   "cell_type": "code",
   "execution_count": 8,
   "metadata": {},
   "outputs": [
    {
     "name": "stderr",
     "output_type": "stream",
     "text": [
      "WARNING: Logging before flag parsing goes to stderr.\n",
      "W0614 14:52:55.814053  5160 deprecation.py:323] From C:\\Users\\Tom\\Anaconda3\\envs\\mltf2\\lib\\site-packages\\tensorflow\\python\\ops\\math_grad.py:1250: add_dispatch_support.<locals>.wrapper (from tensorflow.python.ops.array_ops) is deprecated and will be removed in a future version.\n",
      "Instructions for updating:\n",
      "Use tf.where in 2.0, which has the same broadcast rule as np.where\n"
     ]
    },
    {
     "name": "stdout",
     "output_type": "stream",
     "text": [
      "using saved model\n",
      "Model: \"model\"\n",
      "_________________________________________________________________\n",
      "Layer (type)                 Output Shape              Param #   \n",
      "=================================================================\n",
      "input_1 (InputLayer)         [(None, 2697)]            0         \n",
      "_________________________________________________________________\n",
      "embedding (Embedding)        (None, 2697, 50)          4429400   \n",
      "_________________________________________________________________\n",
      "dropout (Dropout)            (None, 2697, 50)          0         \n",
      "_________________________________________________________________\n",
      "dense (Dense)                (None, 2697, 128)         6528      \n",
      "_________________________________________________________________\n",
      "dropout_1 (Dropout)          (None, 2697, 128)         0         \n",
      "_________________________________________________________________\n",
      "dense_1 (Dense)              (None, 2697, 128)         16512     \n",
      "_________________________________________________________________\n",
      "dropout_2 (Dropout)          (None, 2697, 128)         0         \n",
      "_________________________________________________________________\n",
      "flatten (Flatten)            (None, 345216)            0         \n",
      "_________________________________________________________________\n",
      "dense_2 (Dense)              (None, 1)                 345217    \n",
      "=================================================================\n",
      "Total params: 4,797,657\n",
      "Trainable params: 368,257\n",
      "Non-trainable params: 4,429,400\n",
      "_________________________________________________________________\n"
     ]
    }
   ],
   "source": [
    "def create_model():\n",
    "    inputs = keras.Input(shape=(x_train_padded.shape[1],), dtype='int32')\n",
    "\n",
    "    # embedding layer\n",
    "    embedding_layer = keras.layers.Embedding(len(word_index.index) + 1,\n",
    "                                EMBEDDING_DIM,\n",
    "                                weights=[embedding_matrix],\n",
    "                                input_length=max_length,\n",
    "                                trainable=False)\n",
    "    inter = embedding_layer(inputs)\n",
    "\n",
    "    for i in range(len(n_hidden)):\n",
    "        inter = keras.layers.Dropout(dropout)(inter, training=True)\n",
    "        inter = keras.layers.Dense(n_hidden[i], activation='relu', kernel_regularizer=keras.regularizers.l2(reg))(inter)\n",
    "\n",
    "    inter = keras.layers.Dropout(dropout)(inter, training=True)\n",
    "    inter = keras.layers.Flatten()(inter)\n",
    "    outputs = keras.layers.Dense(1, kernel_regularizer=keras.regularizers.l2(reg), activation=\"sigmoid\")(inter)\n",
    "    model = keras.Model(inputs, outputs)\n",
    "\n",
    "    model.compile(optimizer='adam', loss='binary_crossentropy', metrics=['acc'])\n",
    "    return model\n",
    "\n",
    "try:\n",
    "    model = keras.models.load_model(model_save_file)\n",
    "    print(\"using saved model\")\n",
    "except:\n",
    "    model = create_model()\n",
    "    print(\"model has not been trained\")\n",
    "\n",
    "model.summary()"
   ]
  },
  {
   "cell_type": "code",
   "execution_count": 9,
   "metadata": {},
   "outputs": [
    {
     "name": "stderr",
     "output_type": "stream",
     "text": [
      "WARNING: Logging before flag parsing goes to stderr.\n",
      "W0612 20:30:36.925418 11208 deprecation.py:323] From C:\\Users\\Tom\\Anaconda3\\envs\\mltf2\\lib\\site-packages\\tensorflow\\python\\ops\\math_grad.py:1250: add_dispatch_support.<locals>.wrapper (from tensorflow.python.ops.array_ops) is deprecated and will be removed in a future version.\n",
      "Instructions for updating:\n",
      "Use tf.where in 2.0, which has the same broadcast rule as np.where\n"
     ]
    },
    {
     "name": "stdout",
     "output_type": "stream",
     "text": [
      "training model\n",
      "Train on 23750 samples, validate on 1250 samples\n",
      "Epoch 1/6\n",
      "23680/23750 [============================>.] - ETA: 0s - loss: 0.7183 - acc: 0.5500\n",
      "Epoch 00001: val_loss improved from inf to 0.62023, saving model to ./models/mc_dropout.h5\n",
      "23750/23750 [==============================] - 24s 990us/sample - loss: 0.7181 - acc: 0.5501 - val_loss: 0.6202 - val_acc: 0.6648\n",
      "Epoch 2/6\n",
      "23680/23750 [============================>.] - ETA: 0s - loss: 0.5844 - acc: 0.6974\n",
      "Epoch 00002: val_loss improved from 0.62023 to 0.56046, saving model to ./models/mc_dropout.h5\n",
      "23750/23750 [==============================] - 22s 941us/sample - loss: 0.5846 - acc: 0.6972 - val_loss: 0.5605 - val_acc: 0.7152\n",
      "Epoch 3/6\n",
      "23680/23750 [============================>.] - ETA: 0s - loss: 0.5417 - acc: 0.7353\n",
      "Epoch 00003: val_loss improved from 0.56046 to 0.54729, saving model to ./models/mc_dropout.h5\n",
      "23750/23750 [==============================] - 22s 934us/sample - loss: 0.5417 - acc: 0.7353 - val_loss: 0.5473 - val_acc: 0.7336\n",
      "Epoch 4/6\n",
      "23680/23750 [============================>.] - ETA: 0s - loss: 0.5204 - acc: 0.7495\n",
      "Epoch 00004: val_loss improved from 0.54729 to 0.53390, saving model to ./models/mc_dropout.h5\n",
      "23750/23750 [==============================] - 22s 938us/sample - loss: 0.5207 - acc: 0.7492 - val_loss: 0.5339 - val_acc: 0.7448\n",
      "Epoch 5/6\n",
      "23680/23750 [============================>.] - ETA: 0s - loss: 0.5141 - acc: 0.7538\n",
      "Epoch 00005: val_loss improved from 0.53390 to 0.52914, saving model to ./models/mc_dropout.h5\n",
      "23750/23750 [==============================] - 23s 953us/sample - loss: 0.5138 - acc: 0.7541 - val_loss: 0.5291 - val_acc: 0.7432\n",
      "Epoch 6/6\n",
      "23680/23750 [============================>.] - ETA: 0s - loss: 0.4997 - acc: 0.7620\n",
      "Epoch 00006: val_loss improved from 0.52914 to 0.52199, saving model to ./models/mc_dropout.h5\n",
      "23750/23750 [==============================] - 23s 949us/sample - loss: 0.4998 - acc: 0.7619 - val_loss: 0.5220 - val_acc: 0.7560\n",
      "25000/25000 [==============================] - 23s 905us/sample - loss: 0.4844 - acc: 0.7709\n"
     ]
    }
   ],
   "source": [
    "# keras callbacks\n",
    "tb_callback = keras.callbacks.TensorBoard(log_dir='logs') \n",
    "model_checkpoint_cb = keras.callbacks.ModelCheckpoint(model_save_file, \n",
    "                                                      monitor='val_loss', \n",
    "                                                      verbose=1, \n",
    "                                                      save_best_only=True, \n",
    "                                                      save_weights_only=False, \n",
    "                                                      mode='auto')\n",
    "\n",
    "model.fit(x_train_padded, y_train, validation_split=0.05, epochs=epochs, batch_size=batch_size, callbacks=[tb_callback, model_checkpoint_cb])\n",
    "loss, accuracy = model.evaluate(x_train_padded, y_train)"
   ]
  },
  {
   "cell_type": "code",
   "execution_count": 1,
   "metadata": {},
   "outputs": [
    {
     "ename": "NameError",
     "evalue": "name 'model' is not defined",
     "output_type": "error",
     "traceback": [
      "\u001b[1;31m---------------------------------------------------------------------------\u001b[0m",
      "\u001b[1;31mNameError\u001b[0m                                 Traceback (most recent call last)",
      "\u001b[1;32m<ipython-input-1-ebfddeab214f>\u001b[0m in \u001b[0;36m<module>\u001b[1;34m\u001b[0m\n\u001b[1;32m----> 1\u001b[1;33m \u001b[0mhistory\u001b[0m \u001b[1;33m=\u001b[0m \u001b[0mmodel\u001b[0m\u001b[1;33m.\u001b[0m\u001b[0mhistory\u001b[0m\u001b[1;33m\u001b[0m\u001b[1;33m\u001b[0m\u001b[0m\n\u001b[0m\u001b[0;32m      2\u001b[0m \u001b[1;33m\u001b[0m\u001b[0m\n\u001b[0;32m      3\u001b[0m \u001b[1;32mif\u001b[0m \u001b[0mhistory\u001b[0m\u001b[1;33m:\u001b[0m\u001b[1;33m\u001b[0m\u001b[1;33m\u001b[0m\u001b[0m\n\u001b[0;32m      4\u001b[0m     \u001b[1;31m# Plot training & validation accuracy values\u001b[0m\u001b[1;33m\u001b[0m\u001b[1;33m\u001b[0m\u001b[1;33m\u001b[0m\u001b[0m\n\u001b[0;32m      5\u001b[0m     \u001b[0mplt\u001b[0m\u001b[1;33m.\u001b[0m\u001b[0mplot\u001b[0m\u001b[1;33m(\u001b[0m\u001b[0mhistory\u001b[0m\u001b[1;33m.\u001b[0m\u001b[0mhistory\u001b[0m\u001b[1;33m[\u001b[0m\u001b[1;34m'acc'\u001b[0m\u001b[1;33m]\u001b[0m\u001b[1;33m)\u001b[0m\u001b[1;33m\u001b[0m\u001b[1;33m\u001b[0m\u001b[0m\n",
      "\u001b[1;31mNameError\u001b[0m: name 'model' is not defined"
     ]
    }
   ],
   "source": [
    "history = model.history\n",
    "\n",
    "if history:\n",
    "    # Plot training & validation accuracy values\n",
    "    plt.plot(history.history['acc'])\n",
    "    plt.plot(history.history['val_acc'])\n",
    "    plt.title('Model accuracy')\n",
    "    plt.ylabel('Accuracy')\n",
    "    plt.xlabel('Epoch')\n",
    "    plt.legend(['Train', 'Test'], loc='upper left')\n",
    "    plt.show()\n",
    "\n",
    "    # Plot training & validation loss values\n",
    "    plt.plot(history.history['loss'])\n",
    "    plt.plot(history.history['val_loss'])\n",
    "    plt.title('Model loss')\n",
    "    plt.ylabel('Loss')\n",
    "    plt.xlabel('Epoch')\n",
    "    plt.legend(['Train', 'Test'], loc='upper left')\n",
    "    plt.show()"
   ]
  },
  {
   "cell_type": "code",
   "execution_count": 15,
   "metadata": {},
   "outputs": [
    {
     "name": "stdout",
     "output_type": "stream",
     "text": [
      "Training data predictions: mean of 0.5 and std of 0.5\n",
      "\n",
      "<START> please give this one a miss br br kristy swanson <UNK> <START> rest of <START> cast rendered terrible performances <START> show is flat flat flat br br i don't know how michael madison could have allowed this one on his plate he almost seemed to know this wasn't going to work out <UNK> his performance was quite lacklustre so all you madison fans give this a miss\n",
      "Expected: 0, Predicted mean: 0.480582, rmse: 0.501041, std: 0.141715\n"
     ]
    },
    {
     "data": {
      "image/png": "[encoded data removed]",
      "text/plain": [
       "<Figure size 432x288 with 1 Axes>"
      ]
     },
     "metadata": {
      "needs_background": "light"
     },
     "output_type": "display_data"
    },
    {
     "name": "stdout",
     "output_type": "stream",
     "text": [
      "\n",
      "\n",
      "\n",
      "<START> this film requires a lot of patience because it focuses on mood <UNK> character development <START> plot is very simple <UNK> many of <START> scenes take place on <START> same set in frances austen's <START> sandy dennis character apartment but <START> film builds to a disturbing climax br br <START> characters create an atmosphere rife with sexual tension <UNK> psychological trickery it's very interesting that robert altman directed this considering <START> style <UNK> structure of his other films still <START> trademark altman audio style is evident here <UNK> there i think what really makes this film work is <START> brilliant performance by sandy dennis it's definitely one of her darker characters but she plays it so perfectly <UNK> convincingly that it's scary michael burns does a good job as <START> mute young man regular altman player michael murphy has a small part <START> solemn moody set fits <START> content of <START> story very well in short this movie is a powerful study of loneliness sexual repression <UNK> desperation be patient soak up <START> atmosphere <UNK> pay attention to <START> wonderfully written script br br i praise robert altman this is one of his many films that deals with unconventional fascinating subject matter this film is disturbing but it's sincere <UNK> it's sure to elicit a strong emotional response from <START> viewer if you want to see an unusual film some might even say bizarre this is worth <START> time br br unfortunately it's very difficult to find in video stores you may have to buy it off <START> internet\n",
      "Expected: 1, Predicted mean: 0.940351, rmse: 0.084802, std: 0.060278\n"
     ]
    },
    {
     "data": {
      "image/png": "[encoded data removed]",
      "text/plain": [
       "<Figure size 432x288 with 1 Axes>"
      ]
     },
     "metadata": {
      "needs_background": "light"
     },
     "output_type": "display_data"
    },
    {
     "name": "stdout",
     "output_type": "stream",
     "text": [
      "\n",
      "\n",
      "\n",
      "<START> many animation buffs consider wladyslaw starewicz <START> great forgotten genius of one special branch of <START> art puppet animation which he invented almost single handedly <UNK> as it happened almost accidentally as a young man starewicz was more interested in entomology than <START> cinema but his unsuccessful attempt to film two stag beetles fighting led to an unexpected breakthrough in film making when he realized he could simulate movement by manipulating beetle carcasses <UNK> photographing them one frame at a time this discovery led to <START> production of amazingly elaborate classic short <START> cameraman's revenge which he made in russia in 1912 at a time when motion picture animation of all sorts was in its infancy br br <START> political tumult of <START> russian revolution caused starewicz to move to paris where one of his first productions coincidentally was a dark political satire variously known as frogland or <START> frogs who wanted a king a strain of black comedy can be found in almost all of films but here it is very dark indeed aimed more at grown ups who can appreciate <START> satirical aspects than children who would most likely find <START> climax upsetting i'm middle aged <UNK> found it pretty upsetting myself <UNK> indeed prints of <START> film intended for english speaking viewers of <START> 1920s were given title cards filled with puns <UNK> quips in order to help soften <START> sharp sting of <START> finale br br our tale is set in a swamp <START> frogland commonwealth where <START> citizens are unhappy with their government <UNK> have called a special session to see what they can do to improve matters they decide to beseech jupiter for a king <START> crowds are impressively animated in this opening sequence it couldn't have been easy to make so many frog puppets look alive simultaneously while jupiter for his part is depicted as a droll white bearded guy in <START> clouds who looks like he'd rather be taking a nap when jupiter sends them a tree like god who regards them <START> frogs decide that this is no improvement <UNK> demand a different king irritated jupiter sends them a stork br br delighted with this formidable looking new king who towers above them <START> frogs welcome him with a delegation of formally dressed dignitaries <START> mayor steps forward to hand him <START> key to <START> commonwealth as newsreel cameras record <START> event to everyone's horror <START> stork promptly eats <START> mayor <UNK> then goes on a merry rampage swallowing citizens at random a title card dryly reads news of <START> king's appetite throughout <START> kingdom when <START> now terrified frogs once more beseech jupiter for help he loses his temper <UNK> showers their community with lightning bolts <START> moral of our story delivered by a hapless frog just before he is eaten is let well enough alone br br considering <START> time period when this startling little film was made <UNK> considering <START> fact that it was made by a russian émigré at <START> height of that beleaguered country's civil war it would be easy to see this as a parable about those events starewicz may or may not have had russia's turmoil in mind when he made frogland but whatever prompted his choice of material <START> film stands as a cautionary tale of universal application frogland could be <START> soviet union italy germany or japan in <START> 1930s or any country of any era that lets its guard down <UNK> is overwhelmed by tyranny it's a fascinating film even a charming one in its macabre way but its message is no joke\n",
      "Expected: 1, Predicted mean: 0.924799, rmse: 0.113585, std: 0.085126\n"
     ]
    },
    {
     "data": {
      "image/png": "[encoded data removed]",
      "text/plain": [
       "<Figure size 432x288 with 1 Axes>"
      ]
     },
     "metadata": {
      "needs_background": "light"
     },
     "output_type": "display_data"
    },
    {
     "name": "stdout",
     "output_type": "stream",
     "text": [
      "\n",
      "\n",
      "\n",
      "<START> i generally love this type of movie however this time i found myself wanting to kick <START> screen since i can't do that i will just complain about it this was absolutely idiotic <START> things that happen with <START> dead kids are very cool but <START> alive people are absolute idiots i am a grown man pretty big <UNK> i can defend myself well however i would not do half <START> stuff <START> little girl does in this movie also <START> mother in this movie is reckless with her children to <START> point of neglect i wish i wasn't so angry about her <UNK> her actions because i would have otherwise enjoyed <START> flick what a number she was take my advise <UNK> fast forward through everything you see her do until <START> end also is anyone else getting sick of watching movies that are filmed so dark anymore one can hardly see what is being filmed as an audience we are impossibly involved with <START> actions on <START> screen so then why <START> hell can't we have night vision\n",
      "Expected: 0, Predicted mean: 0.198913, rmse: 0.232575, std: 0.120520\n"
     ]
    },
    {
     "data": {
      "image/png": "[encoded data removed]",
      "text/plain": [
       "<Figure size 432x288 with 1 Axes>"
      ]
     },
     "metadata": {
      "needs_background": "light"
     },
     "output_type": "display_data"
    },
    {
     "name": "stdout",
     "output_type": "stream",
     "text": [
      "\n",
      "\n",
      "\n",
      "<START> like some other people wrote i'm a die hard mario fan <UNK> i loved this game br br this game starts slightly boring but trust me it's worth it as soon as you start your hooked <START> levels are fun <UNK> exiting they will hook you 'till your mind turns to mush i'm not kidding this game is also orchestrated <UNK> is beautifully done br br to keep this spoiler free i have to keep my mouth shut about details but please try this game it'll be worth it br br story 9 9 action 10 1 it's that good hardness 10 attention grabber 10 average 10\n",
      "Expected: 1, Predicted mean: 0.353679, rmse: 0.661715, std: 0.141900\n"
     ]
    },
    {
     "data": {
      "image/png": "[encoded data removed]",
      "text/plain": [
       "<Figure size 432x288 with 1 Axes>"
      ]
     },
     "metadata": {
      "needs_background": "light"
     },
     "output_type": "display_data"
    },
    {
     "name": "stdout",
     "output_type": "stream",
     "text": [
      "\n",
      "\n",
      "\n",
      "<START> i'm absolutely disgusted this movie isn't being sold all who love this movie should email disney <UNK> increase <START> demand for it they'd eventually have to sell it then i'd buy copies for everybody i know everything <UNK> everybody in this movie did a good job <UNK> i haven't figured out why disney hasn't put this movie on dvd or on vhs in rental stores at least i haven't seen any copies this is a wicked good movie <UNK> should be seen by all <START> kids in <START> new generation don't get to see it <UNK> i think they should it should at least be put back on <START> channel this movie doesn't deserve a cheap download it deserves <START> real thing i'm them now this movie will be on dvd\n",
      "Expected: 1, Predicted mean: 0.188773, rmse: 0.818994, std: 0.112526\n"
     ]
    },
    {
     "data": {
      "image/png": "[encoded data removed]",
      "text/plain": [
       "<Figure size 432x288 with 1 Axes>"
      ]
     },
     "metadata": {
      "needs_background": "light"
     },
     "output_type": "display_data"
    },
    {
     "name": "stdout",
     "output_type": "stream",
     "text": [
      "\n",
      "\n",
      "\n",
      "<START> originally supposed to be just a part of a huge epic <START> year 1905 depicting <START> revolution of 1905 potemkin is <START> story of <START> mutiny of <START> crew of <START> potemkin in odessa harbor <START> film opens with <START> crew protesting meat <UNK> <START> captain ordering <START> execution of <START> an uprising takes place during which <START> revolutionary leader is killed this crewman is taken to <START> shore to lie in state when <START> townspeople gather on a huge flight of steps overlooking <START> harbor czarist troops appear <UNK> march down <START> steps breaking up <START> crowd a naval squadron is sent to retake <START> potemkin but at <START> moment when <START> ships come into range their crews allow <START> to pass through eisenstein's non historically accurate ending is open ended thus indicating that this was <START> seed of <START> later bolshevik revolution that would bloom in russia <START> film is broken into five parts men <UNK> maggots drama on <START> an appeal from <START> dead <START> odessa steps <UNK> meeting <START> squadron br br eisenstein was a revolutionary artist but at <START> genius level not wanting to make a historical drama eisenstein used visual texture to give <START> film a newsreel look so that <START> viewer feels he is eavesdropping on a thrilling <UNK> politically revolutionary story this technique is used by <START> battle of algiers br br unlike eisenstein relied on or <START> casting of non professionals who had striking physical appearances <START> extraordinary faces of <START> cast are what one remembers from potemkin this technique is later used by frank capra in mr deeds goes to town <UNK> meet john doe but in potemkin no one individual is cast as a hero or heroine <START> story is told through a series of scenes that are combined in a special effect known as montage <START> editing <UNK> selection of short segments to produce a desired effect on <START> viewer d w griffith also used <START> montage but no one mastered it so well as eisenstein br br <START> artistic filming of <START> crew sleeping in their is complemented by <START> graceful swinging of tables suspended from chains in <START> galley in contrast <START> confrontation between <START> crew <UNK> their officers is charged with electricity <UNK> <START> clenched fists of <START> masses demonstrate their rage with injustice br br eisenstein introduced <START> technique of showing an action <UNK> repeating it again but from a slightly different angle to demonstrate intensity <START> breaking of a plate bearing <START> words give us this day our daily bread signifies <START> beginning of <START> end this technique is used in last year at marienbad also when <START> ship's surgeon is tossed over <START> side his nez dangles from <START> rigging it was these glasses that <START> officer used to inspect <UNK> pass <START> maggot infested meat this sequence ties <START> punishment to <START> corruption of <START> czarist era br br <START> most noted sequence in <START> film <UNK> perhaps in all of film history is <START> odessa steps <START> broad expanse of <START> steps are filled with hundreds of extras rapid <UNK> dramatic violence is always suggested <UNK> not explicit yet <START> visual images of <START> deaths of a few will last in <START> minds of <START> viewer forever br br <START> angular shots of marching boots <UNK> legs descending <START> steps are cleverly accentuated with long menacing shadows from a sun at <START> top of <START> steps <START> pace of <START> sequence is deliberately varied between <START> marching soldiers <UNK> a few civilians who summon up courage to beg them to stop a close up of a woman's face frozen in horror after being struck by a soldier's sword is <START> direct antecedent of <START> bank teller in bonnie in clyde <UNK> gives a lasting impression of <START> horror of <START> czarist regime br br <START> death of a young mother leads to a baby carriage careening down <START> steps in a sequence that has been copied by hitchcock in foreign correspondent by terry gilliam in brazil <UNK> brian depalma in <START> untouchables this sequence is shown repeatedly from various angles thus drawing out what probably was only a five second event br br potemkin is a film that <START> revolutionary spirit celebrates it for those already committed <UNK> it for <START> unconverted it seethes of fire <UNK> roars with <START> senseless injustices of <START> decadent czarist regime its greatest impact has been on film students who have borrowed <UNK> only slightly improved on techniques invented in russia several generations ago\n",
      "Expected: 1, Predicted mean: 0.867473, rmse: 0.205117, std: 0.156555\n"
     ]
    },
    {
     "data": {
      "image/png": "[encoded data removed]",
      "text/plain": [
       "<Figure size 432x288 with 1 Axes>"
      ]
     },
     "metadata": {
      "needs_background": "light"
     },
     "output_type": "display_data"
    },
    {
     "name": "stdout",
     "output_type": "stream",
     "text": [
      "\n",
      "\n",
      "\n",
      "<START> <START> emperor's richard haydn dog is betrothed to johanna's joan fontaine dog however when virgil bing crosby arrives in town to sell a record player to <START> emperor his dog is attacked by johanna's dog after a revenge attack where virgil is banished from town a psychoanalyst insists that johanna's dog must confront dog so that she can overcome her doggy fears this is arranged <UNK> <START> dogs fall in love so do virgil <UNK> johanna <START> rest of <START> film passes by with romance <UNK> at <START> end johanna's dog gives birth but who is <START> father br br <START> dog story is <START> very weak vehicle that is used to try <UNK> create a story between humans its a terrible storyline there are 3 main musical pieces all of which are rubbish bad songs <UNK> dreadful choreography its just an extremely boring film bing has too many words in each sentence <UNK> delivers them in an almost irritating manner its not funny ever but its meant to be bing <UNK> joan have done much better than this\n",
      "Expected: 0, Predicted mean: 0.351025, rmse: 0.395913, std: 0.183108\n"
     ]
    },
    {
     "data": {
      "image/png": "[encoded data removed]",
      "text/plain": [
       "<Figure size 432x288 with 1 Axes>"
      ]
     },
     "metadata": {
      "needs_background": "light"
     },
     "output_type": "display_data"
    },
    {
     "name": "stdout",
     "output_type": "stream",
     "text": [
      "\n",
      "\n",
      "\n",
      "<START> hollywood had a long love affair with bogus arabian nights tales but few of these products have stood <START> test of time <START> most memorable were <START> jon hall maria montez films which have long since become camp this one is filled with dubbed songs anachronistic slang <UNK> slapstick it's a truly crop of corn <UNK> pretty near intolerable today it was nominated for its imaginative special effects which are almost unnoticeable in this day <UNK> age consisting mainly of trick photography <START> only outstanding positive feature which survives is its beautiful color <UNK> clarity sad to say of <START> many films made in this genre few of them come up to alexander korda's original thief of baghdad almost any other arabian nights film is superior to this one though it's a loser\n",
      "Expected: 0, Predicted mean: 0.610862, rmse: 0.634188, std: 0.170414\n"
     ]
    },
    {
     "data": {
      "image/png": "[encoded data removed]",
      "text/plain": [
       "<Figure size 432x288 with 1 Axes>"
      ]
     },
     "metadata": {
      "needs_background": "light"
     },
     "output_type": "display_data"
    },
    {
     "name": "stdout",
     "output_type": "stream",
     "text": [
      "\n",
      "\n",
      "\n",
      "<START> this film is where <START> batman franchise ought to have stopped though i will concede that <START> ideas behind batman forever were excellent <UNK> could have been easily realised by a competent director as it turned out this was not to be <START> case br br apparently warner brothers executives were disappointed with how dark this second batman film from tim burton turned out apart from <START> idiocy of expecting anything else from burton <UNK> <START> conservative cowardice of their subsequent decision to turn <START> franchise into an homage to <START> sixties tv series i fail to understand how batman returns can be considered at all disappointing br br true it is not quite <START> equal of <START> first film though it repairs all <START> minor deficiencies of style found in batman a weaker script that splits <START> antagonism between not just two but three characters invites unflattering comparisons to <START> masterful pairing of keaton <UNK> jack nicholson as <START> joker in <START> first film yet for all this it remains a gorgeously dark film true to <START> way <START> batman was always meant to be <UNK> highly satisfying br br michael keaton returns as <START> batman <UNK> his alter ego bruce wayne with tycoon max schreck christopher walken named in honour of <START> 1920s german silent actor his partner in crime oswald cobblepot <START> penguin danny devito in brilliant makeup reminiscent of laurence olivier's richard iii <UNK> selina kyle <START> catwoman michelle pfeiffer whom wayne romances both as himself <UNK> as <START> batman <START> four principals turn in excellent performances especially walken <UNK> devito while together keaton <UNK> pfeiffer explore <START> darker side of double identities br br there are some intriguing concepts in this film about <START> only weakness i can really point out is a certain to <START> script in some places which i think is due mostly to <START> way this film is a four cornered fight there simply isn't enough time to properly explore what's going on br br nevertheless this is a damn good film i highly recommend watching this in conjunction with <START> first <UNK> then weeping for how good <START> series could have been had it continued under burton <UNK> keaton\n",
      "Expected: 1, Predicted mean: 0.644152, rmse: 0.404719, std: 0.192794\n"
     ]
    },
    {
     "data": {
      "image/png": "[encoded data removed]",
      "text/plain": [
       "<Figure size 432x288 with 1 Axes>"
      ]
     },
     "metadata": {
      "needs_background": "light"
     },
     "output_type": "display_data"
    },
    {
     "name": "stdout",
     "output_type": "stream",
     "text": [
      "\n",
      "\n",
      "\n",
      "<START> inspired by hitchcock's strangers on a train concept of two men swapping murders in exchange for getting rid of <START> two people messing up their lives throw momma from <START> train is an original <UNK> very inventive comedy take on <START> idea it's a credit to danny devito that he both wrote <UNK> starred in this minor comedy gem br br anne ramsey is <START> mother who inspires <START> film's title <UNK> it's understandable why she gets under <START> skin of danny devito with her sharp tongue <UNK> relentlessly putting him down for any minor infraction billy crystal is <START> writer who's wife has stolen his book idea <UNK> is now being lionized as a great new author even appearing on <START> oprah show to in adulation he should be enjoying thus devito gets <START> idea of swapping murders to rid themselves of these nuisance factors br br of course everything <UNK> anything can happen when writer carl reiner lets his imagination roam with unending ideas for how <START> plot develops <UNK> it's amusing all <START> way through providing plenty of laughs <UNK> chuckles along <START> way as well as a good deal of suspense br br for devotees of black comedy this one is guaranteed to please\n",
      "Expected: 1, Predicted mean: 0.649583, rmse: 0.394333, std: 0.180849\n"
     ]
    },
    {
     "data": {
      "image/png": "[encoded data removed]",
      "text/plain": [
       "<Figure size 432x288 with 1 Axes>"
      ]
     },
     "metadata": {
      "needs_background": "light"
     },
     "output_type": "display_data"
    },
    {
     "name": "stdout",
     "output_type": "stream",
     "text": [
      "\n",
      "\n",
      "\n",
      "<START> when i first saw this movie in <START> theater i was so angry it completely blew in my opinion i didn't see it for a decade then decided what <START> hell let's see i'm watching all hellraiser movies now to see where it went wrong my guess is it was with sequel 5 that was <START> first to implement <START> whole i am in a dream omg i see weird stuff oh noes what is happening oh its a dream oh its not a dream oh wait i see something spooky oh never mind sucky storyline those sequels don't even require <START> box to be opened or stick to <START> rules from <START> first 4 movies that if you saw pinhead you are pretty much screwed <UNK> dead <START> first 3 sticked to this storyline which made it so scary in <START> first place nothing fantasy nothing weird <START> box got opened boom they came was <START> only one that could bargain her way out of it first because of uncle frank then because she had information about <START> this movie at least attempts to stick to all that even though it was a bad story it was still somewhat hellraiser no i'm pretty sure part 5 was <START> first part to completely <UNK> utterly destroy <START> hellraiser series now they are remaking 1 <UNK> i don't even think i will watch it oh who am i kidding i probably will <UNK> probably will be disappointed again\n",
      "Expected: 0, Predicted mean: 0.121948, rmse: 0.152401, std: 0.091404\n"
     ]
    },
    {
     "data": {
      "image/png": "[encoded data removed]",
      "text/plain": [
       "<Figure size 432x288 with 1 Axes>"
      ]
     },
     "metadata": {
      "needs_background": "light"
     },
     "output_type": "display_data"
    },
    {
     "name": "stdout",
     "output_type": "stream",
     "text": [
      "\n",
      "\n",
      "\n",
      "<START> oh dear oh dear it really gets on my nerves when a low budget pointless horror affair tries to look interesting in <START> credits by having a bunch of good names pop up in <START> cast only to involve each one in <START> smallest most pointless possible roles in this film we have richard lynch in one scene a momentary appearance from martin kove a brief spot for vernon welles slightly more time on screen for john philip law <UNK> a little time for karen black this bunch of random cameos does not really add up to much though richard lynch <UNK> karen black do raise some of <START> few smiles of this film with their appearances <UNK> its quite painful really as none of <START> main cast are much good at all i couldn't help but think that if more scenes were filmed with any of <START> b movie veterans above <START> film would be a whole lot better but as it is there are just a few tantalising glimpses of good entertainment without <START> film ever actually attaining much entertainment value of <START> main cast <START> only charismatic or likable performances in my opinion were steve as axel <UNK> his girlfriend who i believe was played by elina madison never heard of her before but she has some measure of screen presence <UNK> is a good looker <START> plotting in this one is simple evil undead miner goes after those who eek to steal his gold <UNK> it should make for good slasher fun especially given that it is directed by john carl who has done special effects for many of these sort of films including having worked on all three of <START> major slasher franchises halloween elm street <UNK> friday 13th <UNK> such small gems as mausoleum unfortunately <START> film is sadly lacking in suspense likability <UNK> satisfying gore there are one or two mildly gory moments but nothing worth <START> effort of watching <START> film i wouldn't say in fact aside from <START> above mentioned cameos this entire movie is really quite stale <UNK> turgid with characters that couldn't get offed quick enough for my liking <UNK> an unfortunate lack of any real interest i didn't even find it fun in a laughable bad movie sense which is rare for me since i love a lot of pretty crummy films i'd say avoid\n",
      "Expected: 0, Predicted mean: 0.520732, rmse: 0.579863, std: 0.255105\n"
     ]
    },
    {
     "data": {
      "image/png": "[encoded data removed]",
      "text/plain": [
       "<Figure size 432x288 with 1 Axes>"
      ]
     },
     "metadata": {
      "needs_background": "light"
     },
     "output_type": "display_data"
    },
    {
     "name": "stdout",
     "output_type": "stream",
     "text": [
      "\n",
      "\n",
      "\n",
      "<START> i started watching this because i thought it was a really shitty porno as i kept watching <START> only thrill i got from this movie was finding out what <START> name of it was so i could look it up <UNK> rip on it i just finished it <UNK> have considered ending my life knowing that someone actually made this movie br br for <START> people who commented on this movie as having a good script <UNK> great acting my words of wisdom for you are that you probably have no friends because you were in <START> movie you are probably wishing you had all that time back of your life that you wasted on making this movie br br there is no way that this is a serious movie there was an old guy that gets stabbed <UNK> it doesn't even hurt him at all <UNK> when everyone else gets stabbed they drop dead br br it was probably important that these people killed random people <UNK> ate them <UNK> also hung out with an 80 year old man that wanted to put <START> parts into his body br br my favorite part was when <START> old man found <START> or however you spell it because that made <START> movie seem very intellectual <UNK> probably helped to reach <START> older crowd br br what really blew my mind that they decided to throw in that random scene about <START> college girls going into <START> woods looking for fake skulls br br if you do attempt to see this movie you should probably fill up your bathtub <UNK> drop your hairdryer in it <UNK> be ready to jump in br br this is a must see for anyone who believes there life could not get any worse because this will help you realize there are people out there <START> makers of this movie who are even more pathetic <UNK> are going no where in life\n",
      "Expected: 0, Predicted mean: 0.322116, rmse: 0.363532, std: 0.168513\n"
     ]
    },
    {
     "data": {
      "image/png": "[encoded data removed]",
      "text/plain": [
       "<Figure size 432x288 with 1 Axes>"
      ]
     },
     "metadata": {
      "needs_background": "light"
     },
     "output_type": "display_data"
    },
    {
     "name": "stdout",
     "output_type": "stream",
     "text": [
      "\n",
      "\n",
      "\n",
      "<START> a touching documentary that puts a human face on <START> tragedy of 9 11 by showing how one small community to honor two high school friends lost on that day <START> film interweaves <START> lives of chris <UNK> tom through interviews with family <UNK> friends <UNK> snippets of old photos through their reminiscences we glimpse two lives tragically cut short <START> film also documents how through a series of coincidences an inspirational memorial garden was brought forth through <START> efforts of many people both known <UNK> unknown to <START> two victims through <START> laughter <UNK> <START> tears <UNK> <START> sweat we see <START> power of hope <UNK> honor <UNK> love this films evokes many different emotions but <START> final feeling is one of admiration of <START> human spirit by tragedy\n",
      "Expected: 1, Predicted mean: 0.872691, rmse: 0.146076, std: 0.071629\n"
     ]
    },
    {
     "data": {
      "image/png": "[encoded data removed]",
      "text/plain": [
       "<Figure size 432x288 with 1 Axes>"
      ]
     },
     "metadata": {
      "needs_background": "light"
     },
     "output_type": "display_data"
    },
    {
     "name": "stdout",
     "output_type": "stream",
     "text": [
      "\n",
      "\n",
      "\n",
      "<START> let me first start out by saying 1 out of 10 is too good for this movie it's unfortunate that imdb doesn't have tenths of a star i watched this abortion of a movie in <START> middle of <START> night due to insomnia <UNK> it was absolute garbage <START> plot was horrible <START> acting was horrible <START> movie was utterly boring looked like <START> shadow with alec baldwin <START> shadow is infinitely better than this as well <START> character eve was so undeveloped <UNK> 2 dimensional she didn't even grab my attention i didn't even know her name was eve don was interesting when he kept his mouth shut <START> twist if you can call it that was laughable <UNK> pathetic when it came <START> movie had done such a horrid job of building suspense or attachment to any character that i simply thought who gives a s <START> only thing that made me even lift an eyebrow about this movie was <START> fact <START> med teacher was dyson in terminator 2 also a movie that was light years ahead of this motion picture massacre anyone who was involved in this movie should be ashamed of themselves for wasting 90 minutes of countless people's time it's no wonder no actor from this movie ever had a fruitful career in summary this movie is so bad i feel dirty <UNK> need a shower worst movie in history gigli was better prom night <START> remake was better <UNK> dare i say it saw iv was better\n",
      "Expected: 0, Predicted mean: 0.065231, rmse: 0.099755, std: 0.075472\n"
     ]
    },
    {
     "data": {
      "image/png": "[encoded data removed]",
      "text/plain": [
       "<Figure size 432x288 with 1 Axes>"
      ]
     },
     "metadata": {
      "needs_background": "light"
     },
     "output_type": "display_data"
    },
    {
     "name": "stdout",
     "output_type": "stream",
     "text": [
      "\n",
      "\n",
      "\n",
      "<START> from 1996 first i watched this movie i feel never reach <START> end of my satisfaction i feel that i want to watch more <UNK> more until now my god i don't believe it was ten years ago <UNK> i can believe that i almost remember every word of <START> dialogues i love this movie <UNK> i love this novel absolutely perfection i love willem defoe he has a strange voice to spell <START> words black night <UNK> i always say it for many times never being bored i love <START> music of it's so much made me come into another world deep in my heart anyone can feel what i feel <UNK> anyone could make <START> movie like this i don't believe so thanks thanks\n",
      "Expected: 1, Predicted mean: 0.741470, rmse: 0.285879, std: 0.122022\n"
     ]
    },
    {
     "data": {
      "image/png": "[encoded data removed]",
      "text/plain": [
       "<Figure size 432x288 with 1 Axes>"
      ]
     },
     "metadata": {
      "needs_background": "light"
     },
     "output_type": "display_data"
    },
    {
     "name": "stdout",
     "output_type": "stream",
     "text": [
      "\n",
      "\n",
      "\n",
      "<START> ed kel mitchell is a teenager who lives for his job at good burger a small but friendly neighborhood hamburger stand while his buddy dexter thompson also works there but lack ed's single minded devotion to his job he's there because he accidentally destroyed <START> car of his teacher mr wheat sinbad <UNK> has to raise money to pay <START> damages when mondo burger a mammoth fast foot chain opens across <START> street it looks like good burger is history until ed formulates a secret sauce that brings hundreds of new customers to their door however <START> monomaniacal manager of mondo burger kurt jan is determined to get his hands on <START> sauce <UNK> put good burger out of business meanwhile ed <UNK> dexter must rescue otis abe vigoda <START> world's oldest fast food employee from <START> demented hills asylum <UNK> ed might just find love with monique jackson if he could take his mind off <START> burgers long enough to pay attention to her good burger is a comedy directed for kids decent story acting <UNK> overall a pretty harmless kids movie\n",
      "Expected: 0, Predicted mean: 0.684168, rmse: 0.700594, std: 0.150818\n"
     ]
    },
    {
     "data": {
      "image/png": "[encoded data removed]",
      "text/plain": [
       "<Figure size 432x288 with 1 Axes>"
      ]
     },
     "metadata": {
      "needs_background": "light"
     },
     "output_type": "display_data"
    },
    {
     "name": "stdout",
     "output_type": "stream",
     "text": [
      "\n",
      "\n",
      "\n",
      "<START> i was really geared up to watch when two of best movie critics tagged this movie as a 'laugh but <START> movie turned out be disappointing br br you will be advised to watch this movie keeping your brains at home but you simply can't ignore <START> flaws <UNK> <START> shortcomings br br 1 <START> missile scene was total stupidity br br 2 katrina kaif <UNK> govinda pair looked awful he's 49 <UNK> she's just 24 more than double of her age 3 salman's comedy is less of acting <UNK> more of overacting br br 4 songs are good but interrupts <START> pace of <START> movie br br 5 some scenes were deliberately attempted by <START> movie makers to be funny <UNK> 6 poor <UNK> flawed story br br however there are few pluses 1 govinda great individual performance br br 2 some scenes are actually quite funny br br 3 kaif looks <UNK> acting keeps on improving with every film br br 4 rajpal yadav's don sequences though under utilized but hilarious br br so 4 good points 6 bad ones this one gets 4 10\n",
      "Expected: 0, Predicted mean: 0.164927, rmse: 0.202728, std: 0.117888\n"
     ]
    },
    {
     "data": {
      "image/png": "[encoded data removed]",
      "text/plain": [
       "<Figure size 432x288 with 1 Axes>"
      ]
     },
     "metadata": {
      "needs_background": "light"
     },
     "output_type": "display_data"
    },
    {
     "name": "stdout",
     "output_type": "stream",
     "text": [
      "\n",
      "\n",
      "\n",
      "<START> right so you have a dam tons of water that seems to flow really really slowly <UNK> a small town that happens to be right underneath <START> path of destruction throw in a profiteering glutton an apparently mentally unstable <UNK> disgruntled architect <UNK> his son <UNK> then to spice things up you add a weak plot <UNK> bad acting all in all when you have a look at this film from a paying customers point of view i would feel extremely peeved off if this was a pay per view film if you want a laugh then you really need to watch this film\n",
      "Expected: 0, Predicted mean: 0.175690, rmse: 0.203731, std: 0.103146\n"
     ]
    },
    {
     "data": {
      "image/png": "[encoded data removed]",
      "text/plain": [
       "<Figure size 432x288 with 1 Axes>"
      ]
     },
     "metadata": {
      "needs_background": "light"
     },
     "output_type": "display_data"
    },
    {
     "name": "stdout",
     "output_type": "stream",
     "text": [
      "\n",
      "\n",
      "\n",
      "<START> this film was one that i have waited to see for some time i was glad to find it has been everything anticipated <START> writing of this film has been so finely crafted <UNK> researched far beyond what is seen by <START> audience i found it amusing that so many people watching will not read between some very important lines but indeed if not <START> movie will make sense in a different way <UNK> is very brilliant <START> film has many stories <UNK> characters woven together around this one character kilo a man whom has rose from <START> streets amidst many woes <UNK> become a very powerful criminal after spending some time in prison kilo finds a loophole in <START> justice system <UNK> through a disturbing turn of events is released only to find everything is not at all what it seems kilo finds himself going up against <START> higher realm of society <UNK> political royalty in order to make clear how important a man's word is <UNK> stands for a war begins as <START> street is in arms against lords of wealth <UNK> corrupt power br br a build up to explosive <UNK> powerful non stop twists <UNK> turns this film will leave you riveted i found <START> cast of this movie to be outstanding <UNK> is not a movie to be ignored excellent go rent it today\n",
      "Expected: 1, Predicted mean: 0.759527, rmse: 0.278733, std: 0.140941\n"
     ]
    },
    {
     "data": {
      "image/png": "[encoded data removed]",
      "text/plain": [
       "<Figure size 432x288 with 1 Axes>"
      ]
     },
     "metadata": {
      "needs_background": "light"
     },
     "output_type": "display_data"
    },
    {
     "name": "stdout",
     "output_type": "stream",
     "text": [
      "\n",
      "\n",
      "\n",
      "<START> this is one of my favourite disney films it has everything you could hope for in a disney animation cute animals great songs a nasty villain <UNK> lots of adventure <START> story begins in paris where duchess <UNK> her three kittens live with their mistress in a mansion life is perfect for them until <START> fiendish butler edgar discovers that she plans to leave her entire fortune to <START> cats he realises that if he even stands a chance of claiming <START> fortune <START> cats will be out of <START> way an excellent often forgotten masterpiece from <START> 1970's a time when <START> disney studio made few animations which features songs such as <START> title number <START> aristocats as well as wants to be a cat this will enchant viewers young <UNK> old with its enduring\n",
      "Expected: 1, Predicted mean: 0.845920, rmse: 0.182158, std: 0.097165\n"
     ]
    },
    {
     "data": {
      "image/png": "[encoded data removed]",
      "text/plain": [
       "<Figure size 432x288 with 1 Axes>"
      ]
     },
     "metadata": {
      "needs_background": "light"
     },
     "output_type": "display_data"
    },
    {
     "name": "stdout",
     "output_type": "stream",
     "text": [
      "\n",
      "\n",
      "\n",
      "<START> how managed to avoid attention remains a mystery a potent mix of comedy <UNK> crime this one takes chances where tarantino plays it safe with <START> hollywood formula <START> risks don't always pay off one character in one sequence comes off inappropriately silly <UNK> falls flat in <START> lead role thomas jane gives a wonderful <UNK> complex performance <UNK> two brief appearances by mickey rourke hint at <START> high potential of this much under <UNK> mis used actor here's a director one should keep one's eye on\n",
      "Expected: 1, Predicted mean: 0.549306, rmse: 0.481607, std: 0.169766\n"
     ]
    },
    {
     "data": {
      "image/png": "[encoded data removed]",
      "text/plain": [
       "<Figure size 432x288 with 1 Axes>"
      ]
     },
     "metadata": {
      "needs_background": "light"
     },
     "output_type": "display_data"
    },
    {
     "name": "stdout",
     "output_type": "stream",
     "text": [
      "\n",
      "\n",
      "\n",
      "<START> eric ability to roll from character to character in this 'one man show' exhibits his true range as a character actor each persona has their own message to convey about truth society class drugs etc this is an absolute must have for anyone who is a serious fan of acting his performance contains some of <START> most hilarious <UNK> real moments i have ever experienced as a viewing audience\n",
      "Expected: 1, Predicted mean: 0.747081, rmse: 0.268271, std: 0.089450\n"
     ]
    },
    {
     "data": {
      "image/png": "[encoded data removed]",
      "text/plain": [
       "<Figure size 432x288 with 1 Axes>"
      ]
     },
     "metadata": {
      "needs_background": "light"
     },
     "output_type": "display_data"
    },
    {
     "name": "stdout",
     "output_type": "stream",
     "text": [
      "\n",
      "\n",
      "\n",
      "<START> welsh poet dylan thomas excused from serving in active duty is doing his bit for <START> war effort producing bits of prose for some propaganda branch of government in whitehall br br thomas is portrayed as a believing in free love married to a woman with an equally demanding artistic streak <UNK> likewise with a penchant for extramarital romance thomas writing <UNK> reciting his poetry in systematic domestic mayhem throughout becomes somewhat priggish towards <START> end resting somewhat uncomfortably on his society connections <UNK> pulling rank on a war veteran who had shot up his house <UNK> who was incidentally married to <START> woman he had been having an affair with br br <START> real story of this film is <START> love of two women one keira knightley whose first love was thomas matthew rhys <START> second sienna miller who is thomas's wife at times it reminds of <START> singing detective as in very good television with slightly sinister overtones laid on top of scenes of surreal camp absurdity\n",
      "Expected: 1, Predicted mean: 0.861790, rmse: 0.171110, std: 0.100879\n"
     ]
    },
    {
     "data": {
      "image/png": "[encoded data removed]",
      "text/plain": [
       "<Figure size 432x288 with 1 Axes>"
      ]
     },
     "metadata": {
      "needs_background": "light"
     },
     "output_type": "display_data"
    },
    {
     "name": "stdout",
     "output_type": "stream",
     "text": [
      "\n",
      "\n",
      "\n"
     ]
    }
   ],
   "source": [
    "mean_y_train = np.mean(y_train)\n",
    "std_y_train = np.std(y_train)\n",
    "\n",
    "print(\"Training data predictions: mean of %s and std of %s\\n\" % (mean_y_train, std_y_train))\n",
    "\n",
    "def calc_rmse(y1, y2):\n",
    "    return tf.sqrt(tf.reduce_mean(tf.square(tf.subtract(y1, y2))))\n",
    "\n",
    "def calc_log_likelihood(y, Yt_hat):\n",
    "    return (tf.reduce_logsumexp(-0.5 * tau * (y - Yt_hat)**2., 0)\n",
    "            - np.log(T) \n",
    "            - 0.5 * np.log(2 * np.pi) \n",
    "            - 0.5 * np.log(tau)) # paper states -0.5 as correct. Implementation states +0.5\n",
    "\n",
    "def reduce_rmse(X_test, y_test, mc_samples=1):\n",
    "    \"\"\"\n",
    "    MC dropout: Equivalent to performing T sochastic forward passes through the network and averaging the results. \n",
    "    \"\"\"\n",
    "    Y_samples = np.array([model.predict(X_test, batch_size=500, verbose=0) for _ in range(mc_samples)])\n",
    "    mc_pred = np.mean(Y_samples * std_y_train + mean_y_train, 0)\n",
    "    return (calc_rmse(y_test, mc_pred), Y_samples)\n",
    "\n",
    "\n",
    "# predict(x_test_padded, y_test)\n",
    "# (0.5039183, 0.49860904, -1.0451484)\n",
    "\n",
    "def predict(X_test, y_test):\n",
    "    \"\"\"\n",
    "        Function for making predictions with the Bayesian neural network.\n",
    "        @param X_test   The tensor of features for the test data\n",
    "        @param y_test   The tensor of labels for the test data\n",
    "    \"\"\"\n",
    "        \n",
    "    X_test = np.array(X_test, ndmin = 2)\n",
    "    y_test = np.array(y_test, ndmin = 2, dtype=\"f\").T\n",
    "\n",
    "    # predictive mean and variance for the target variables of the test data\n",
    "    rmse_standard_pred = reduce_rmse(X_test, y_test)[0]\n",
    "    rmse, Y_samples = reduce_rmse(X_test, y_test, mc_samples=T)\n",
    "    Yt_hat = Y_samples * std_y_train + mean_y_train\n",
    "\n",
    "    log_likelihood = calc_log_likelihood(y_test, Yt_hat)\n",
    "    mean_log_likelihood = np.mean(log_likelihood)\n",
    "\n",
    "    return rmse_standard_pred, rmse, Y_samples, (mean_log_likelihood, log_likelihood)\n",
    "\n",
    "test_size = 25\n",
    "rmse_standard_pred, rmse, Y_samples, (mean_log_likelihood, log_likelihood) = predict(x_test_padded[:test_size], y_test[:test_size])\n",
    "for i in range(test_size):\n",
    "    samples = Y_samples[:, i]\n",
    "    sentence = word_index.vec2sentence(x_test[i])\n",
    "    expected = y_test[i]\n",
    "    pred_mean = np.mean(samples, 0)\n",
    "    rmse = calc_rmse(samples, expected)\n",
    "    std = np.std(samples)\n",
    "    \n",
    "    print(\"%s\\nExpected: %i, Predicted mean: %f, rmse: %f, std: %f\" % (sentence, expected, pred_mean, rmse, std))\n",
    "    plt.hist(samples, bins=20, range=(0,1))\n",
    "    plt.show()\n",
    "    print(\"\\n\\n\")"
   ]
  }
 ],
 "metadata": {
  "kernelspec": {
   "display_name": "Python [conda env:mltf2]",
   "language": "python",
   "name": "conda-env-mltf2-py"
  },
  "language_info": {
   "codemirror_mode": {
    "name": "ipython",
    "version": 3
   },
   "file_extension": ".py",
   "mimetype": "text/x-python",
   "name": "python",
   "nbconvert_exporter": "python",
   "pygments_lexer": "ipython3",
   "version": "3.6.8"
  }
 },
 "nbformat": 4,
 "nbformat_minor": 2
}
