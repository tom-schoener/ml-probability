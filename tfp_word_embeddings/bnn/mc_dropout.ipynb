{
 "cells": [
  {
   "cell_type": "markdown",
   "metadata": {},
   "source": [
    "# MC Dropout\n",
    "https://github.com/yaringal/DropoutUncertaintyExps/blob/master/net/net.py"
   ]
  },
  {
   "cell_type": "code",
   "execution_count": 1,
   "metadata": {},
   "outputs": [
    {
     "name": "stderr",
     "output_type": "stream",
     "text": [
      "C:\\Users\\Tom\\Anaconda3\\envs\\mltf2\\lib\\site-packages\\ipykernel\\parentpoller.py:116: UserWarning: Parent poll failed.  If the frontend dies,\n",
      "                the kernel may be left running.  Please let us know\n",
      "                about your system (bitness, Python, etc.) at\n",
      "                ipython-dev@scipy.org\n",
      "  ipython-dev@scipy.org\"\"\")\n"
     ]
    },
    {
     "name": "stdout",
     "output_type": "stream",
     "text": [
      "Tensorflow Version: 2.0.0-beta0\n",
      "Tensorflow Probability Version: 0.8.0-dev20190610\n"
     ]
    }
   ],
   "source": [
    "from __future__ import absolute_import\n",
    "from __future__ import division\n",
    "from __future__ import print_function\n",
    "\n",
    "%matplotlib inline\n",
    "\n",
    "import matplotlib.pyplot as plt\n",
    "import numpy as np\n",
    "import tensorflow as tf\n",
    "import tensorflow_probability as tfp\n",
    "\n",
    "keras = tf.keras\n",
    "tfd = tfp.distributions\n",
    "\n",
    "print(\"Tensorflow Version: %s\" % tf.__version__)\n",
    "print(\"Tensorflow Probability Version: %s\" % tfp.__version__)"
   ]
  },
  {
   "cell_type": "code",
   "execution_count": 2,
   "metadata": {},
   "outputs": [
    {
     "data": {
      "text/plain": [
       "<module 'commons' from 'D:\\\\Tom\\\\Documents\\\\gitworkspace\\\\master\\\\ml-probability\\\\tfp_word_embeddings\\\\commons.py'>"
      ]
     },
     "execution_count": 2,
     "metadata": {},
     "output_type": "execute_result"
    }
   ],
   "source": [
    "# commons package\n",
    "import os\n",
    "import sys\n",
    "import importlib\n",
    "\n",
    "module_path = os.path.abspath(os.path.join('..'))\n",
    "if module_path not in sys.path:\n",
    "    sys.path.append(module_path)\n",
    "\n",
    "import commons as cm\n",
    "importlib.reload(cm)"
   ]
  },
  {
   "cell_type": "markdown",
   "metadata": {},
   "source": [
    "# Configuration and Parameters"
   ]
  },
  {
   "cell_type": "code",
   "execution_count": 3,
   "metadata": {},
   "outputs": [],
   "source": [
    "# GloVe Configuration\n",
    "\n",
    "# Directory containing the GloVe files.\n",
    "GLOVE_DIR = \"D:/google drive/haw/master/mastertheisis/hauptprojekt\"\n",
    "\n",
    "# Embedding dimension\n",
    "EMBEDDING_DIM = 50"
   ]
  },
  {
   "cell_type": "code",
   "execution_count": 4,
   "metadata": {},
   "outputs": [],
   "source": [
    "imdb = cm.load_imdb()\n",
    "(x_train, y_train), (x_test, y_test) = imdb"
   ]
  },
  {
   "cell_type": "code",
   "execution_count": 5,
   "metadata": {},
   "outputs": [],
   "source": [
    "# MC Dropout parameters\n",
    "\n",
    "# model save file\n",
    "model_save_file = \"./models/mc_dropout.h5\"\n",
    "\n",
    "# number of data points\n",
    "N = x_train.shape[0]\n",
    "\n",
    "# hidden layers where each element denotes the nummer of neurons\n",
    "n_hidden = [128, 128]\n",
    "\n",
    "# batch size for training\n",
    "batch_size = 128\n",
    "\n",
    "# training epochs \n",
    "epochs = 6\n",
    "\n",
    "# prior lenght scale\n",
    "lengthscale = 1e-2\n",
    "\n",
    "# dropout rate for all dropout layers in the network, 1. means drop all\n",
    "dropout = 0.5\n",
    "\n",
    "# model precision used for regularization\n",
    "tau = 1.0\n",
    "\n",
    "# regularization\n",
    "reg = lengthscale**2 * (1 - dropout) / (2. * N * tau)\n",
    "\n",
    "# MCMC Samples\n",
    "T = 50"
   ]
  },
  {
   "cell_type": "markdown",
   "metadata": {},
   "source": [
    "# GloVe Word Embedding"
   ]
  },
  {
   "cell_type": "code",
   "execution_count": 6,
   "metadata": {},
   "outputs": [
    {
     "name": "stdout",
     "output_type": "stream",
     "text": [
      "Found 400000 word vectors.\n",
      "17361/88587 unknown words\n"
     ]
    }
   ],
   "source": [
    "# GLOVE Word Embedding\n",
    "word_index = cm.WordIndex()\n",
    "embedding_index = cm.load_glove_embedding(GLOVE_DIR, EMBEDDING_DIM)\n",
    "(embedding_matrix, unknown_words) = word_index.match_glove(embedding_index=embedding_index, embedding_dim=EMBEDDING_DIM)\n",
    "max_length = cm.get_max_length(x_train, x_test)"
   ]
  },
  {
   "cell_type": "code",
   "execution_count": 7,
   "metadata": {},
   "outputs": [],
   "source": [
    "# pad input vectors\n",
    "x_train_padded = cm.pad_input(x_train, max_length)\n",
    "x_test_padded = cm.pad_input(x_test, max_length)"
   ]
  },
  {
   "cell_type": "markdown",
   "metadata": {},
   "source": [
    "# Model"
   ]
  },
  {
   "cell_type": "code",
   "execution_count": 8,
   "metadata": {},
   "outputs": [
    {
     "name": "stdout",
     "output_type": "stream",
     "text": [
      "model has not been trained\n",
      "Model: \"model\"\n",
      "_________________________________________________________________\n",
      "Layer (type)                 Output Shape              Param #   \n",
      "=================================================================\n",
      "input_1 (InputLayer)         [(None, 2697)]            0         \n",
      "_________________________________________________________________\n",
      "embedding (Embedding)        (None, 2697, 50)          4429400   \n",
      "_________________________________________________________________\n",
      "dropout (Dropout)            (None, 2697, 50)          0         \n",
      "_________________________________________________________________\n",
      "dense (Dense)                (None, 2697, 128)         6528      \n",
      "_________________________________________________________________\n",
      "dropout_1 (Dropout)          (None, 2697, 128)         0         \n",
      "_________________________________________________________________\n",
      "dense_1 (Dense)              (None, 2697, 128)         16512     \n",
      "_________________________________________________________________\n",
      "dropout_2 (Dropout)          (None, 2697, 128)         0         \n",
      "_________________________________________________________________\n",
      "flatten (Flatten)            (None, 345216)            0         \n",
      "_________________________________________________________________\n",
      "dense_2 (Dense)              (None, 1)                 345217    \n",
      "=================================================================\n",
      "Total params: 4,797,657\n",
      "Trainable params: 368,257\n",
      "Non-trainable params: 4,429,400\n",
      "_________________________________________________________________\n"
     ]
    }
   ],
   "source": [
    "def create_model():\n",
    "    inputs = keras.Input(shape=(x_train_padded.shape[1],), dtype='int32')\n",
    "\n",
    "    # embedding layer\n",
    "    embedding_layer = keras.layers.Embedding(len(word_index.index) + 1,\n",
    "                                EMBEDDING_DIM,\n",
    "                                weights=[embedding_matrix],\n",
    "                                input_length=max_length,\n",
    "                                trainable=False)\n",
    "    inter = embedding_layer(inputs)\n",
    "\n",
    "    for i in range(len(n_hidden)):\n",
    "        inter = keras.layers.Dropout(dropout)(inter, training=True)\n",
    "        inter = keras.layers.Dense(n_hidden[i], activation='relu', kernel_regularizer=keras.regularizers.l2(reg))(inter)\n",
    "\n",
    "    inter = keras.layers.Dropout(dropout)(inter, training=True)\n",
    "    inter = keras.layers.Flatten()(inter)\n",
    "    outputs = keras.layers.Dense(1, kernel_regularizer=keras.regularizers.l2(reg), activation=\"sigmoid\")(inter)\n",
    "    model = keras.Model(inputs, outputs)\n",
    "\n",
    "    model.compile(optimizer='adam', loss='binary_crossentropy', metrics=['acc'])\n",
    "    return model\n",
    "\n",
    "try:\n",
    "    model = keras.models.load_model(model_save_file)\n",
    "    print(\"using saved model weights\")\n",
    "except:\n",
    "    model = create_model()\n",
    "    print(\"model has not been trained\")\n",
    "\n",
    "model.summary()"
   ]
  },
  {
   "cell_type": "code",
   "execution_count": 9,
   "metadata": {},
   "outputs": [
    {
     "name": "stderr",
     "output_type": "stream",
     "text": [
      "WARNING: Logging before flag parsing goes to stderr.\n",
      "W0612 20:30:36.925418 11208 deprecation.py:323] From C:\\Users\\Tom\\Anaconda3\\envs\\mltf2\\lib\\site-packages\\tensorflow\\python\\ops\\math_grad.py:1250: add_dispatch_support.<locals>.wrapper (from tensorflow.python.ops.array_ops) is deprecated and will be removed in a future version.\n",
      "Instructions for updating:\n",
      "Use tf.where in 2.0, which has the same broadcast rule as np.where\n"
     ]
    },
    {
     "name": "stdout",
     "output_type": "stream",
     "text": [
      "training model\n",
      "Train on 23750 samples, validate on 1250 samples\n",
      "Epoch 1/6\n",
      "23680/23750 [============================>.] - ETA: 0s - loss: 0.7183 - acc: 0.5500\n",
      "Epoch 00001: val_loss improved from inf to 0.62023, saving model to ./models/mc_dropout.h5\n",
      "23750/23750 [==============================] - 24s 990us/sample - loss: 0.7181 - acc: 0.5501 - val_loss: 0.6202 - val_acc: 0.6648\n",
      "Epoch 2/6\n",
      "23680/23750 [============================>.] - ETA: 0s - loss: 0.5844 - acc: 0.6974\n",
      "Epoch 00002: val_loss improved from 0.62023 to 0.56046, saving model to ./models/mc_dropout.h5\n",
      "23750/23750 [==============================] - 22s 941us/sample - loss: 0.5846 - acc: 0.6972 - val_loss: 0.5605 - val_acc: 0.7152\n",
      "Epoch 3/6\n",
      "23680/23750 [============================>.] - ETA: 0s - loss: 0.5417 - acc: 0.7353\n",
      "Epoch 00003: val_loss improved from 0.56046 to 0.54729, saving model to ./models/mc_dropout.h5\n",
      "23750/23750 [==============================] - 22s 934us/sample - loss: 0.5417 - acc: 0.7353 - val_loss: 0.5473 - val_acc: 0.7336\n",
      "Epoch 4/6\n",
      "23680/23750 [============================>.] - ETA: 0s - loss: 0.5204 - acc: 0.7495\n",
      "Epoch 00004: val_loss improved from 0.54729 to 0.53390, saving model to ./models/mc_dropout.h5\n",
      "23750/23750 [==============================] - 22s 938us/sample - loss: 0.5207 - acc: 0.7492 - val_loss: 0.5339 - val_acc: 0.7448\n",
      "Epoch 5/6\n",
      "23680/23750 [============================>.] - ETA: 0s - loss: 0.5141 - acc: 0.7538\n",
      "Epoch 00005: val_loss improved from 0.53390 to 0.52914, saving model to ./models/mc_dropout.h5\n",
      "23750/23750 [==============================] - 23s 953us/sample - loss: 0.5138 - acc: 0.7541 - val_loss: 0.5291 - val_acc: 0.7432\n",
      "Epoch 6/6\n",
      "23680/23750 [============================>.] - ETA: 0s - loss: 0.4997 - acc: 0.7620\n",
      "Epoch 00006: val_loss improved from 0.52914 to 0.52199, saving model to ./models/mc_dropout.h5\n",
      "23750/23750 [==============================] - 23s 949us/sample - loss: 0.4998 - acc: 0.7619 - val_loss: 0.5220 - val_acc: 0.7560\n",
      "25000/25000 [==============================] - 23s 905us/sample - loss: 0.4844 - acc: 0.7709\n"
     ]
    }
   ],
   "source": [
    "# keras callbacks\n",
    "tb_callback = keras.callbacks.TensorBoard(log_dir='logs') \n",
    "model_checkpoint_cb = keras.callbacks.ModelCheckpoint(model_save_file, \n",
    "                                                      monitor='val_loss', \n",
    "                                                      verbose=1, \n",
    "                                                      save_best_only=True, \n",
    "                                                      save_weights_only=False, \n",
    "                                                      mode='auto')\n",
    "\n",
    "model.fit(x_train_padded, y_train, validation_split=0.05, epochs=epochs, batch_size=batch_size, callbacks=[tb_callback, model_checkpoint_cb])\n",
    "loss, accuracy = model.evaluate(x_train_padded, y_train)"
   ]
  },
  {
   "cell_type": "code",
   "execution_count": 12,
   "metadata": {},
   "outputs": [
    {
     "data": {
      "image/png": "[encoded data removed]",
      "text/plain": [
       "<Figure size 432x288 with 1 Axes>"
      ]
     },
     "metadata": {
      "needs_background": "light"
     },
     "output_type": "display_data"
    },
    {
     "data": {
      "image/png": "[encoded data removed]",
      "text/plain": [
       "<Figure size 432x288 with 1 Axes>"
      ]
     },
     "metadata": {
      "needs_background": "light"
     },
     "output_type": "display_data"
    }
   ],
   "source": [
    "history = model.history\n",
    "\n",
    "if history:\n",
    "    # Plot training & validation accuracy values\n",
    "    plt.plot(history.history['acc'])\n",
    "    plt.plot(history.history['val_acc'])\n",
    "    plt.title('Model accuracy')\n",
    "    plt.ylabel('Accuracy')\n",
    "    plt.xlabel('Epoch')\n",
    "    plt.legend(['Train', 'Test'], loc='upper left')\n",
    "    plt.show()\n",
    "\n",
    "    # Plot training & validation loss values\n",
    "    plt.plot(history.history['loss'])\n",
    "    plt.plot(history.history['val_loss'])\n",
    "    plt.title('Model loss')\n",
    "    plt.ylabel('Loss')\n",
    "    plt.xlabel('Epoch')\n",
    "    plt.legend(['Train', 'Test'], loc='upper left')\n",
    "    plt.show()"
   ]
  },
  {
   "cell_type": "code",
   "execution_count": 47,
   "metadata": {},
   "outputs": [],
   "source": [
    "def sample_model(x, samples=150):\n",
    "    preds = []\n",
    "    for i in range(samples):\n",
    "        pred = tf.squeeze(model.predict(tf.expand_dims(x, 0)))\n",
    "        preds += [pred]\n",
    "\n",
    "    plt.hist(preds, bins=20, range=(0, 1))\n",
    "    plt.show()\n",
    "\n",
    "    print(\"std: %f, mean: %f\" % (tfp.stats.stddev(preds), tf.math.reduce_mean(preds)))"
   ]
  },
  {
   "cell_type": "code",
   "execution_count": 50,
   "metadata": {},
   "outputs": [
    {
     "name": "stdout",
     "output_type": "stream",
     "text": [
      "<START> please give this one a miss br br kristy swanson <UNK> <START> rest of <START> cast rendered terrible performances <START> show is flat flat flat br br i don't know how michael madison could have allowed this one on his plate he almost seemed to know this wasn't going to work out <UNK> his performance was quite lacklustre so all you madison fans give this a miss\n"
     ]
    },
    {
     "data": {
      "image/png": "[encoded data removed]",
      "text/plain": [
       "<Figure size 432x288 with 1 Axes>"
      ]
     },
     "metadata": {
      "needs_background": "light"
     },
     "output_type": "display_data"
    },
    {
     "name": "stdout",
     "output_type": "stream",
     "text": [
      "std: 0.150089, mean: 0.474955\n",
      "\n",
      "\n",
      "\n",
      "<START> this film requires a lot of patience because it focuses on mood <UNK> character development <START> plot is very simple <UNK> many of <START> scenes take place on <START> same set in frances austen's <START> sandy dennis character apartment but <START> film builds to a disturbing climax br br <START> characters create an atmosphere rife with sexual tension <UNK> psychological trickery it's very interesting that robert altman directed this considering <START> style <UNK> structure of his other films still <START> trademark altman audio style is evident here <UNK> there i think what really makes this film work is <START> brilliant performance by sandy dennis it's definitely one of her darker characters but she plays it so perfectly <UNK> convincingly that it's scary michael burns does a good job as <START> mute young man regular altman player michael murphy has a small part <START> solemn moody set fits <START> content of <START> story very well in short this movie is a powerful study of loneliness sexual repression <UNK> desperation be patient soak up <START> atmosphere <UNK> pay attention to <START> wonderfully written script br br i praise robert altman this is one of his many films that deals with unconventional fascinating subject matter this film is disturbing but it's sincere <UNK> it's sure to elicit a strong emotional response from <START> viewer if you want to see an unusual film some might even say bizarre this is worth <START> time br br unfortunately it's very difficult to find in video stores you may have to buy it off <START> internet\n"
     ]
    },
    {
     "data": {
      "image/png": "[encoded data removed]",
      "text/plain": [
       "<Figure size 432x288 with 1 Axes>"
      ]
     },
     "metadata": {
      "needs_background": "light"
     },
     "output_type": "display_data"
    },
    {
     "name": "stdout",
     "output_type": "stream",
     "text": [
      "std: 0.044747, mean: 0.947875\n",
      "\n",
      "\n",
      "\n",
      "<START> many animation buffs consider wladyslaw starewicz <START> great forgotten genius of one special branch of <START> art puppet animation which he invented almost single handedly <UNK> as it happened almost accidentally as a young man starewicz was more interested in entomology than <START> cinema but his unsuccessful attempt to film two stag beetles fighting led to an unexpected breakthrough in film making when he realized he could simulate movement by manipulating beetle carcasses <UNK> photographing them one frame at a time this discovery led to <START> production of amazingly elaborate classic short <START> cameraman's revenge which he made in russia in 1912 at a time when motion picture animation of all sorts was in its infancy br br <START> political tumult of <START> russian revolution caused starewicz to move to paris where one of his first productions coincidentally was a dark political satire variously known as frogland or <START> frogs who wanted a king a strain of black comedy can be found in almost all of films but here it is very dark indeed aimed more at grown ups who can appreciate <START> satirical aspects than children who would most likely find <START> climax upsetting i'm middle aged <UNK> found it pretty upsetting myself <UNK> indeed prints of <START> film intended for english speaking viewers of <START> 1920s were given title cards filled with puns <UNK> quips in order to help soften <START> sharp sting of <START> finale br br our tale is set in a swamp <START> frogland commonwealth where <START> citizens are unhappy with their government <UNK> have called a special session to see what they can do to improve matters they decide to beseech jupiter for a king <START> crowds are impressively animated in this opening sequence it couldn't have been easy to make so many frog puppets look alive simultaneously while jupiter for his part is depicted as a droll white bearded guy in <START> clouds who looks like he'd rather be taking a nap when jupiter sends them a tree like god who regards them <START> frogs decide that this is no improvement <UNK> demand a different king irritated jupiter sends them a stork br br delighted with this formidable looking new king who towers above them <START> frogs welcome him with a delegation of formally dressed dignitaries <START> mayor steps forward to hand him <START> key to <START> commonwealth as newsreel cameras record <START> event to everyone's horror <START> stork promptly eats <START> mayor <UNK> then goes on a merry rampage swallowing citizens at random a title card dryly reads news of <START> king's appetite throughout <START> kingdom when <START> now terrified frogs once more beseech jupiter for help he loses his temper <UNK> showers their community with lightning bolts <START> moral of our story delivered by a hapless frog just before he is eaten is let well enough alone br br considering <START> time period when this startling little film was made <UNK> considering <START> fact that it was made by a russian émigré at <START> height of that beleaguered country's civil war it would be easy to see this as a parable about those events starewicz may or may not have had russia's turmoil in mind when he made frogland but whatever prompted his choice of material <START> film stands as a cautionary tale of universal application frogland could be <START> soviet union italy germany or japan in <START> 1930s or any country of any era that lets its guard down <UNK> is overwhelmed by tyranny it's a fascinating film even a charming one in its macabre way but its message is no joke\n"
     ]
    },
    {
     "data": {
      "image/png": "[encoded data removed]",
      "text/plain": [
       "<Figure size 432x288 with 1 Axes>"
      ]
     },
     "metadata": {
      "needs_background": "light"
     },
     "output_type": "display_data"
    },
    {
     "name": "stdout",
     "output_type": "stream",
     "text": [
      "std: 0.091323, mean: 0.923926\n",
      "\n",
      "\n",
      "\n",
      "<START> i generally love this type of movie however this time i found myself wanting to kick <START> screen since i can't do that i will just complain about it this was absolutely idiotic <START> things that happen with <START> dead kids are very cool but <START> alive people are absolute idiots i am a grown man pretty big <UNK> i can defend myself well however i would not do half <START> stuff <START> little girl does in this movie also <START> mother in this movie is reckless with her children to <START> point of neglect i wish i wasn't so angry about her <UNK> her actions because i would have otherwise enjoyed <START> flick what a number she was take my advise <UNK> fast forward through everything you see her do until <START> end also is anyone else getting sick of watching movies that are filmed so dark anymore one can hardly see what is being filmed as an audience we are impossibly involved with <START> actions on <START> screen so then why <START> hell can't we have night vision\n"
     ]
    },
    {
     "data": {
      "image/png": "[encoded data removed]",
      "text/plain": [
       "<Figure size 432x288 with 1 Axes>"
      ]
     },
     "metadata": {
      "needs_background": "light"
     },
     "output_type": "display_data"
    },
    {
     "name": "stdout",
     "output_type": "stream",
     "text": [
      "std: 0.128350, mean: 0.209594\n",
      "\n",
      "\n",
      "\n",
      "<START> like some other people wrote i'm a die hard mario fan <UNK> i loved this game br br this game starts slightly boring but trust me it's worth it as soon as you start your hooked <START> levels are fun <UNK> exiting they will hook you 'till your mind turns to mush i'm not kidding this game is also orchestrated <UNK> is beautifully done br br to keep this spoiler free i have to keep my mouth shut about details but please try this game it'll be worth it br br story 9 9 action 10 1 it's that good hardness 10 attention grabber 10 average 10\n"
     ]
    },
    {
     "data": {
      "image/png": "[encoded data removed]",
      "text/plain": [
       "<Figure size 432x288 with 1 Axes>"
      ]
     },
     "metadata": {
      "needs_background": "light"
     },
     "output_type": "display_data"
    },
    {
     "name": "stdout",
     "output_type": "stream",
     "text": [
      "std: 0.141914, mean: 0.344655\n",
      "\n",
      "\n",
      "\n"
     ]
    }
   ],
   "source": [
    "# test data\n",
    "for n in range(5):\n",
    "    print(word_index.vec2sentence(x_test[n]))\n",
    "    sample_model(x=x_test_padded[n])\n",
    "    print(\"\\n\\n\")"
   ]
  },
  {
   "cell_type": "code",
   "execution_count": null,
   "metadata": {},
   "outputs": [
    {
     "name": "stdout",
     "output_type": "stream",
     "text": [
      "<START> this film was just brilliant casting location scenery story direction everyone's really suited <START> part they played <UNK> you could just imagine being there robert redford's is an amazing actor <UNK> now <START> same being director norman's father came from <START> same scottish island as myself so i loved <START> fact there was a real connection with this film <START> witty remarks throughout <START> film were great it was just brilliant so much that i bought <START> film as soon as it was released for retail <UNK> would recommend it to everyone to watch <UNK> <START> fly fishing was amazing really cried at <START> end it was so sad <UNK> you know what they say if you cry at a film it must have been good <UNK> this definitely was also congratulations to <START> two little boy's that played <START> part's of norman <UNK> paul they were just brilliant children are often left out of <START> praising list i think because <START> stars that play them all grown up are such a big profile for <START> whole film but these children are amazing <UNK> should be praised for what they have done don't you think <START> whole story was so lovely because it was true <UNK> was someone's life after all that was shared with us all\n"
     ]
    },
    {
     "data": {
      "image/png": "[encoded data removed]",
      "text/plain": [
       "<Figure size 432x288 with 1 Axes>"
      ]
     },
     "metadata": {
      "needs_background": "light"
     },
     "output_type": "display_data"
    },
    {
     "name": "stdout",
     "output_type": "stream",
     "text": [
      "std: 0.048218, mean: 0.957743\n",
      "\n",
      "\n",
      "\n",
      "<START> big hair big boobs bad music <UNK> a giant safety pin these are <START> words to best describe this terrible movie i love cheesy horror movies <UNK> i've seen hundreds but this had got to be on of <START> worst ever made <START> plot is paper thin <UNK> ridiculous <START> acting is an abomination <START> script is completely laughable <START> best is <START> end showdown with <START> cop <UNK> how he worked out who <START> killer is it's just so damn terribly written <START> clothes are sickening <UNK> funny in equal measures <START> hair is big lots of boobs bounce men wear those cut tee shirts that show off their stomachs sickening that men actually wore them <UNK> <START> music is just synthesiser trash that plays over <UNK> over again in almost every scene there is trashy music boobs <UNK> paramedics taking away bodies <UNK> <START> gym still doesn't close for bereavement all joking aside this is a truly bad film whose only charm is to look back on <START> disaster that was <START> 80's <UNK> have a good old laugh at how bad everything was back then\n"
     ]
    },
    {
     "data": {
      "image/png": "[encoded data removed]",
      "text/plain": [
       "<Figure size 432x288 with 1 Axes>"
      ]
     },
     "metadata": {
      "needs_background": "light"
     },
     "output_type": "display_data"
    },
    {
     "name": "stdout",
     "output_type": "stream",
     "text": [
      "std: 0.039112, mean: 0.035658\n",
      "\n",
      "\n",
      "\n",
      "<START> this has to be one of <START> worst films of <START> 1990s when my friends i were watching this film being <START> target audience it was aimed at we just sat watched <START> first half an hour with our jaws touching <START> floor at how bad it really was <START> rest of <START> time everyone else in <START> theatre just started talking to each other leaving or generally crying into their popcorn that they actually paid money they had earnt working to watch this feeble excuse for a film it must have looked like a great idea on paper but on film it looks like no one in <START> film has a clue what is going on crap acting crap costumes i can't get across how embarrasing this is to watch save yourself an hour a bit of your life\n"
     ]
    },
    {
     "data": {
      "image/png": "[encoded data removed]",
      "text/plain": [
       "<Figure size 432x288 with 1 Axes>"
      ]
     },
     "metadata": {
      "needs_background": "light"
     },
     "output_type": "display_data"
    },
    {
     "name": "stdout",
     "output_type": "stream",
     "text": [
      "std: 0.115635, mean: 0.186252\n",
      "\n",
      "\n",
      "\n",
      "<START> <START> scots excel at storytelling <START> traditional sort many years after <START> event i can still see in my mind's eye an elderly lady my friend's mother retelling <START> battle of culloden she makes <START> characters come alive her passion is that of an eye witness one to <START> events on <START> sodden heath a mile or so from where she lives br br of course it happened many years before she was born but you wouldn't guess from <START> way she tells it <START> same story is told in bars <START> length <UNK> breadth of scotland as i discussed it with a friend one night in mallaig a local cut in to give his version <START> discussion continued to closing time br br stories passed down like this become part of our being who doesn't remember <START> stories our parents told us when we were children they become our invisible world <UNK> as we grow older they maybe still serve as inspiration or as an emotional reservoir fact <UNK> fiction blend with aspiration role models warning stories archetypes magic <UNK> mystery br br my name is aonghas like my grandfather <UNK> his grandfather before him our protagonist introduces himself to us <UNK> also introduces <START> story that stretches back through generations it produces stories within stories stories that evoke <START> impenetrable wonder of scotland its rugged mountains shrouded in mists <START> stuff of legend yet seach'd is rooted in reality this is what gives it its special charm it has a rough beauty <UNK> authenticity tempered with some of <START> finest gaelic singing you will ever hear br br aonghas angus visits his grandfather in hospital shortly before his death he burns with frustration part of him yearns to be in <START> twenty first century to hang out in glasgow but he is raised on <START> western shores among a gaelic speaking community br br yet there is a deeper conflict within him he yearns to know <START> truth <START> truth behind his grandfather's ancient stories where does fiction end <UNK> he wants to know <START> truth behind <START> death of his parents br br he is pulled to make a last fateful journey to <START> summit of one of scotland's most inaccessible mountains can <START> truth be told or is it all in stories br br in this story about stories we revisit bloody battles poisoned lovers <START> folklore of old <UNK> <START> sometimes more treacherous folklore of accepted truth in doing so we each connect with angus as he lives <START> story of his own life br br seachd <START> inaccessible pinnacle is probably <START> most honest unpretentious <UNK> genuinely beautiful film of scotland ever made like angus i got slightly annoyed with <START> pretext of hanging stories on more stories but also like angus i forgave this once i saw <START> 'bigger picture ' forget <START> box office pastiche of braveheart <UNK> its like you might even forego <START> justly famous dramatisation of <START> wicker man to see a film that is true to scotland this one is probably unique if you maybe meditate on it deeply enough you might even re evaluate <START> power of storytelling <UNK> <START> age old question of whether there are some truths that cannot be told but only experienced\n"
     ]
    },
    {
     "data": {
      "image/png": "[encoded data removed]",
      "text/plain": [
       "<Figure size 432x288 with 1 Axes>"
      ]
     },
     "metadata": {
      "needs_background": "light"
     },
     "output_type": "display_data"
    },
    {
     "name": "stdout",
     "output_type": "stream",
     "text": [
      "std: 0.030468, mean: 0.980859\n",
      "\n",
      "\n",
      "\n",
      "<START> worst mistake of my life br br i picked this movie up at target for 5 because i figured hey it's sandler i can get some cheap laughs i was wrong completely wrong mid way through <START> film all three of my friends were asleep <UNK> i was still suffering worst plot worst script worst movie i have ever seen i wanted to hit my head up against a wall for an hour then i'd stop <UNK> you know why because it felt damn good upon bashing my head in i stuck that damn movie in <START> microwave <UNK> watched it burn <UNK> that felt better than anything else i've ever done it took american psycho army of darkness <UNK> kill bill just to get over that crap i hate you sandler for actually going through with this <UNK> ruining a whole day of my life\n"
     ]
    },
    {
     "data": {
      "image/png": "[encoded data removed]",
      "text/plain": [
       "<Figure size 432x288 with 1 Axes>"
      ]
     },
     "metadata": {
      "needs_background": "light"
     },
     "output_type": "display_data"
    },
    {
     "name": "stdout",
     "output_type": "stream",
     "text": [
      "std: 0.058584, mean: 0.064964\n",
      "\n",
      "\n",
      "\n"
     ]
    }
   ],
   "source": [
    "# training data\n",
    "for n in range(5):\n",
    "    print(word_index.vec2sentence(x_train[n]))\n",
    "    sample_model(x=x_train_padded[n])\n",
    "    print(\"\\n\\n\")"
   ]
  },
  {
   "cell_type": "code",
   "execution_count": 102,
   "metadata": {},
   "outputs": [
    {
     "name": "stdout",
     "output_type": "stream",
     "text": [
      "1/1 [==============================] - 0s 17ms/sample\n",
      "1/1 [==============================] - 0s 15ms/sample\n",
      "1/1 [==============================] - 0s 15ms/sample\n",
      "1/1 [==============================] - 0s 15ms/sample\n",
      "1/1 [==============================] - 0s 16ms/sample\n",
      "1/1 [==============================] - 0s 16ms/sample\n",
      "1/1 [==============================] - 0s 15ms/sample\n",
      "1/1 [==============================] - 0s 16ms/sample\n",
      "1/1 [==============================] - 0s 17ms/sample\n",
      "1/1 [==============================] - 0s 24ms/sample\n",
      "1/1 [==============================] - 0s 15ms/sample\n",
      "1/1 [==============================] - 0s 26ms/sample\n",
      "1/1 [==============================] - 0s 15ms/sample\n",
      "1/1 [==============================] - 0s 14ms/sample\n",
      "1/1 [==============================] - 0s 16ms/sample\n",
      "1/1 [==============================] - 0s 14ms/sample\n",
      "1/1 [==============================] - 0s 15ms/sample\n",
      "1/1 [==============================] - 0s 19ms/sample\n",
      "1/1 [==============================] - 0s 25ms/sample\n",
      "1/1 [==============================] - 0s 15ms/sample\n",
      "1/1 [==============================] - 0s 15ms/sample\n",
      "1/1 [==============================] - 0s 14ms/sample\n",
      "1/1 [==============================] - 0s 15ms/sample\n",
      "1/1 [==============================] - 0s 25ms/sample\n",
      "1/1 [==============================] - 0s 15ms/sample\n",
      "1/1 [==============================] - 0s 15ms/sample\n",
      "1/1 [==============================] - 0s 14ms/sample\n",
      "1/1 [==============================] - 0s 15ms/sample\n",
      "1/1 [==============================] - 0s 14ms/sample\n",
      "1/1 [==============================] - 0s 15ms/sample\n",
      "1/1 [==============================] - 0s 20ms/sample\n",
      "1/1 [==============================] - 0s 15ms/sample\n",
      "1/1 [==============================] - 0s 15ms/sample\n",
      "1/1 [==============================] - 0s 16ms/sample\n",
      "1/1 [==============================] - 0s 16ms/sample\n",
      "1/1 [==============================] - 0s 15ms/sample\n",
      "1/1 [==============================] - 0s 15ms/sample\n",
      "1/1 [==============================] - 0s 15ms/sample\n",
      "1/1 [==============================] - 0s 26ms/sample\n",
      "1/1 [==============================] - 0s 15ms/sample\n",
      "1/1 [==============================] - 0s 15ms/sample\n",
      "1/1 [==============================] - 0s 16ms/sample\n",
      "1/1 [==============================] - 0s 15ms/sample\n",
      "1/1 [==============================] - 0s 15ms/sample\n",
      "1/1 [==============================] - 0s 14ms/sample\n",
      "1/1 [==============================] - 0s 14ms/sample\n",
      "1/1 [==============================] - 0s 15ms/sample\n",
      "1/1 [==============================] - 0s 14ms/sample\n",
      "1/1 [==============================] - 0s 15ms/sample\n",
      "1/1 [==============================] - 0s 18ms/sample\n",
      "1/1 [==============================] - 0s 16ms/sample\n",
      "1/1 [==============================] - 0s 14ms/sample\n",
      "1/1 [==============================] - 0s 14ms/sample\n",
      "1/1 [==============================] - 0s 15ms/sample\n",
      "1/1 [==============================] - 0s 15ms/sample\n",
      "1/1 [==============================] - 0s 15ms/sample\n",
      "1/1 [==============================] - 0s 15ms/sample\n",
      "1/1 [==============================] - 0s 17ms/sample\n",
      "1/1 [==============================] - 0s 15ms/sample\n",
      "1/1 [==============================] - 0s 17ms/sample\n",
      "1/1 [==============================] - 0s 15ms/sample\n",
      "1/1 [==============================] - 0s 14ms/sample\n",
      "1/1 [==============================] - 0s 15ms/sample\n",
      "1/1 [==============================] - 0s 15ms/sample\n",
      "1/1 [==============================] - 0s 15ms/sample\n",
      "1/1 [==============================] - 0s 17ms/sample\n",
      "1/1 [==============================] - 0s 15ms/sample\n",
      "1/1 [==============================] - 0s 15ms/sample\n",
      "1/1 [==============================] - 0s 15ms/sample\n",
      "1/1 [==============================] - 0s 14ms/sample\n",
      "1/1 [==============================] - 0s 15ms/sample\n",
      "1/1 [==============================] - 0s 15ms/sample\n",
      "1/1 [==============================] - 0s 15ms/sample\n",
      "1/1 [==============================] - 0s 15ms/sample\n",
      "1/1 [==============================] - 0s 14ms/sample\n",
      "1/1 [==============================] - 0s 25ms/sample\n",
      "1/1 [==============================] - 0s 25ms/sample\n",
      "1/1 [==============================] - 0s 14ms/sample\n",
      "1/1 [==============================] - 0s 19ms/sample\n",
      "1/1 [==============================] - 0s 15ms/sample\n",
      "1/1 [==============================] - 0s 22ms/sample\n",
      "1/1 [==============================] - 0s 14ms/sample\n",
      "1/1 [==============================] - 0s 15ms/sample\n",
      "1/1 [==============================] - 0s 16ms/sample\n",
      "1/1 [==============================] - 0s 15ms/sample\n",
      "1/1 [==============================] - 0s 15ms/sample\n",
      "1/1 [==============================] - 0s 15ms/sample\n",
      "1/1 [==============================] - 0s 25ms/sample\n",
      "1/1 [==============================] - 0s 14ms/sample\n",
      "1/1 [==============================] - 0s 15ms/sample\n",
      "1/1 [==============================] - 0s 15ms/sample\n",
      "1/1 [==============================] - 0s 27ms/sample\n",
      "1/1 [==============================] - 0s 15ms/sample\n",
      "1/1 [==============================] - 0s 15ms/sample\n",
      "1/1 [==============================] - 0s 15ms/sample\n",
      "1/1 [==============================] - 0s 15ms/sample\n",
      "1/1 [==============================] - 0s 24ms/sample\n",
      "1/1 [==============================] - 0s 15ms/sample\n",
      "1/1 [==============================] - 0s 17ms/sample\n",
      "1/1 [==============================] - 0s 15ms/sample\n",
      "1/1 [==============================] - 0s 15ms/sample\n",
      "1/1 [==============================] - 0s 15ms/sample\n",
      "1/1 [==============================] - 0s 15ms/sample\n",
      "1/1 [==============================] - 0s 17ms/sample\n",
      "1/1 [==============================] - 0s 17ms/sample\n",
      "1/1 [==============================] - 0s 15ms/sample\n",
      "1/1 [==============================] - 0s 15ms/sample\n",
      "1/1 [==============================] - 0s 17ms/sample\n",
      "1/1 [==============================] - 0s 15ms/sample\n",
      "1/1 [==============================] - 0s 15ms/sample\n",
      "1/1 [==============================] - 0s 15ms/sample\n",
      "1/1 [==============================] - 0s 15ms/sample\n",
      "1/1 [==============================] - 0s 15ms/sample\n",
      "1/1 [==============================] - 0s 15ms/sample\n",
      "1/1 [==============================] - 0s 16ms/sample\n",
      "1/1 [==============================] - 0s 15ms/sample\n",
      "1/1 [==============================] - 0s 14ms/sample\n",
      "1/1 [==============================] - 0s 15ms/sample\n",
      "1/1 [==============================] - 0s 15ms/sample\n",
      "1/1 [==============================] - 0s 15ms/sample\n",
      "1/1 [==============================] - 0s 15ms/sample\n",
      "1/1 [==============================] - 0s 15ms/sample\n",
      "1/1 [==============================] - 0s 14ms/sample\n",
      "1/1 [==============================] - 0s 15ms/sample\n",
      "1/1 [==============================] - 0s 15ms/sample\n",
      "1/1 [==============================] - 0s 15ms/sample\n",
      "1/1 [==============================] - 0s 17ms/sample\n",
      "1/1 [==============================] - 0s 18ms/sample\n",
      "1/1 [==============================] - 0s 15ms/sample\n",
      "1/1 [==============================] - 0s 15ms/sample\n",
      "1/1 [==============================] - 0s 15ms/sample\n",
      "1/1 [==============================] - 0s 17ms/sample\n",
      "1/1 [==============================] - 0s 15ms/sample\n",
      "1/1 [==============================] - 0s 15ms/sample\n",
      "1/1 [==============================] - 0s 15ms/sample\n",
      "1/1 [==============================] - 0s 15ms/sample\n",
      "1/1 [==============================] - 0s 24ms/sample\n",
      "1/1 [==============================] - 0s 15ms/sample\n",
      "1/1 [==============================] - 0s 15ms/sample\n",
      "1/1 [==============================] - 0s 15ms/sample\n",
      "1/1 [==============================] - 0s 15ms/sample\n",
      "1/1 [==============================] - 0s 15ms/sample\n",
      "1/1 [==============================] - 0s 16ms/sample\n",
      "1/1 [==============================] - 0s 15ms/sample\n",
      "1/1 [==============================] - 0s 15ms/sample\n",
      "1/1 [==============================] - 0s 15ms/sample\n",
      "1/1 [==============================] - 0s 15ms/sample\n",
      "1/1 [==============================] - 0s 14ms/sample\n",
      "1/1 [==============================] - 0s 15ms/sample\n",
      "1/1 [==============================] - 0s 14ms/sample\n",
      "1/1 [==============================] - 0s 15ms/sample\n",
      "1/1 [==============================] - 0s 16ms/sample\n",
      "1/1 [==============================] - 0s 15ms/sample\n",
      "1/1 [==============================] - 0s 15ms/sample\n",
      "1/1 [==============================] - 0s 15ms/sample\n",
      "1/1 [==============================] - 0s 15ms/sample\n",
      "1/1 [==============================] - 0s 15ms/sample\n",
      "1/1 [==============================] - 0s 15ms/sample\n",
      "1/1 [==============================] - 0s 15ms/sample\n",
      "1/1 [==============================] - 0s 16ms/sample\n",
      "1/1 [==============================] - 0s 15ms/sample\n",
      "1/1 [==============================] - 0s 15ms/sample\n",
      "1/1 [==============================] - 0s 15ms/sample\n",
      "1/1 [==============================] - 0s 15ms/sample\n",
      "1/1 [==============================] - 0s 15ms/sample\n",
      "1/1 [==============================] - 0s 15ms/sample\n",
      "1/1 [==============================] - 0s 23ms/sample\n",
      "1/1 [==============================] - 0s 15ms/sample\n",
      "1/1 [==============================] - 0s 15ms/sample\n",
      "1/1 [==============================] - 0s 15ms/sample\n",
      "1/1 [==============================] - 0s 15ms/sample\n",
      "1/1 [==============================] - 0s 15ms/sample\n",
      "1/1 [==============================] - 0s 16ms/sample\n",
      "1/1 [==============================] - 0s 15ms/sample\n",
      "1/1 [==============================] - 0s 14ms/sample\n",
      "1/1 [==============================] - 0s 15ms/sample\n",
      "1/1 [==============================] - 0s 15ms/sample\n",
      "1/1 [==============================] - 0s 16ms/sample\n",
      "1/1 [==============================] - 0s 15ms/sample\n",
      "1/1 [==============================] - 0s 15ms/sample\n",
      "1/1 [==============================] - 0s 15ms/sample\n",
      "1/1 [==============================] - 0s 15ms/sample\n",
      "1/1 [==============================] - 0s 16ms/sample\n",
      "1/1 [==============================] - 0s 15ms/sample\n",
      "1/1 [==============================] - 0s 19ms/sample\n",
      "1/1 [==============================] - 0s 15ms/sample\n",
      "1/1 [==============================] - 0s 15ms/sample\n",
      "1/1 [==============================] - 0s 14ms/sample\n",
      "1/1 [==============================] - 0s 14ms/sample\n",
      "1/1 [==============================] - 0s 15ms/sample\n",
      "1/1 [==============================] - 0s 16ms/sample\n",
      "1/1 [==============================] - 0s 14ms/sample\n",
      "1/1 [==============================] - 0s 15ms/sample\n",
      "1/1 [==============================] - 0s 14ms/sample\n",
      "1/1 [==============================] - 0s 16ms/sample\n",
      "1/1 [==============================] - 0s 15ms/sample\n",
      "1/1 [==============================] - 0s 15ms/sample\n",
      "1/1 [==============================] - 0s 14ms/sample\n",
      "1/1 [==============================] - 0s 16ms/sample\n",
      "1/1 [==============================] - 0s 15ms/sample\n",
      "1/1 [==============================] - 0s 15ms/sample\n",
      "1/1 [==============================] - 0s 17ms/sample\n",
      "1/1 [==============================] - 0s 17ms/sample\n",
      "1/1 [==============================] - 0s 16ms/sample\n",
      "1/1 [==============================] - 0s 15ms/sample\n",
      "1/1 [==============================] - 0s 15ms/sample\n",
      "1/1 [==============================] - 0s 15ms/sample\n",
      "1/1 [==============================] - 0s 15ms/sample\n",
      "1/1 [==============================] - 0s 15ms/sample\n",
      "1/1 [==============================] - 0s 16ms/sample\n",
      "1/1 [==============================] - 0s 15ms/sample\n",
      "1/1 [==============================] - 0s 15ms/sample\n",
      "1/1 [==============================] - 0s 15ms/sample\n",
      "1/1 [==============================] - 0s 15ms/sample\n",
      "1/1 [==============================] - 0s 16ms/sample\n",
      "1/1 [==============================] - 0s 24ms/sample\n",
      "1/1 [==============================] - 0s 15ms/sample\n",
      "1/1 [==============================] - 0s 15ms/sample\n",
      "1/1 [==============================] - 0s 15ms/sample\n",
      "1/1 [==============================] - 0s 15ms/sample\n",
      "1/1 [==============================] - 0s 21ms/sample\n",
      "1/1 [==============================] - 0s 15ms/sample\n",
      "1/1 [==============================] - 0s 15ms/sample\n",
      "1/1 [==============================] - 0s 15ms/sample\n",
      "1/1 [==============================] - 0s 23ms/sample\n",
      "1/1 [==============================] - 0s 16ms/sample\n",
      "1/1 [==============================] - 0s 15ms/sample\n",
      "1/1 [==============================] - 0s 15ms/sample\n",
      "1/1 [==============================] - 0s 15ms/sample\n",
      "1/1 [==============================] - 0s 15ms/sample\n",
      "1/1 [==============================] - 0s 15ms/sample\n",
      "1/1 [==============================] - 0s 16ms/sample\n",
      "1/1 [==============================] - 0s 15ms/sample\n",
      "1/1 [==============================] - 0s 15ms/sample\n",
      "1/1 [==============================] - 0s 16ms/sample\n",
      "1/1 [==============================] - 0s 15ms/sample\n",
      "1/1 [==============================] - 0s 15ms/sample\n",
      "1/1 [==============================] - 0s 14ms/sample\n",
      "1/1 [==============================] - 0s 15ms/sample\n",
      "1/1 [==============================] - 0s 15ms/sample\n",
      "1/1 [==============================] - 0s 15ms/sample\n",
      "1/1 [==============================] - 0s 15ms/sample\n",
      "1/1 [==============================] - 0s 15ms/sample\n",
      "1/1 [==============================] - 0s 16ms/sample\n",
      "1/1 [==============================] - 0s 15ms/sample\n",
      "1/1 [==============================] - 0s 14ms/sample\n",
      "1/1 [==============================] - 0s 16ms/sample\n",
      "1/1 [==============================] - 0s 15ms/sample\n",
      "1/1 [==============================] - 0s 15ms/sample\n",
      "1/1 [==============================] - 0s 15ms/sample\n"
     ]
    },
    {
     "data": {
      "text/plain": [
       "(array([30., 31., 35., 11.,  9., 14., 51., 35., 24., 10.]),\n",
       " array([0.00490576, 0.09534185, 0.18577794, 0.27621403, 0.36665012,\n",
       "        0.45708621, 0.54752229, 0.63795838, 0.72839447, 0.81883056,\n",
       "        0.90926665]),\n",
       " <a list of 10 Patch objects>)"
      ]
     },
     "execution_count": 102,
     "metadata": {},
     "output_type": "execute_result"
    },
    {
     "data": {
      "image/png": "[encoded data removed]",
      "text/plain": [
       "<Figure size 432x288 with 1 Axes>"
      ]
     },
     "metadata": {
      "needs_background": "light"
     },
     "output_type": "display_data"
    }
   ],
   "source": [
    "mean_y_train = np.mean(y_train)\n",
    "std_y_train = np.std(y_train)\n",
    "\n",
    "def predict(X_test, y_test):\n",
    "    \"\"\"\n",
    "        Function for making predictions with the Bayesian neural network.\n",
    "        @param X_test   The tensor of features for the test data\n",
    "        @param y_test   The tensor of labels for the test data\n",
    "    \"\"\"\n",
    "        \n",
    "    X_test = np.array(X_test, ndmin = 2)\n",
    "    y_test = np.array(y_test, ndmin = 2).T\n",
    "\n",
    "    # We compute the predictive mean and variance for the target variables\n",
    "    # of the test data\n",
    "\n",
    "    standard_pred = model.predict(X_test, batch_size=500, verbose=1)\n",
    "    standard_pred = standard_pred * std_y_train + mean_y_train\n",
    "    rmse_standard_pred = np.mean((y_test.squeeze() - standard_pred.squeeze())**2.)**0.5\n",
    "\n",
    "    Yt_hat = np.array([model.predict(X_test, batch_size=500, verbose=0) for _ in range(T)])\n",
    "    Yt_hat = Yt_hat * std_y_train + mean_y_train\n",
    "    MC_pred = np.mean(Yt_hat, 0)\n",
    "    rmse = np.mean((y_test.squeeze() - MC_pred.squeeze())**2.)**0.5\n",
    "    \n",
    "    # We compute the test log-likelihood\n",
    "    log_likelihood = (tf.reduce_logsumexp(-0.5 * tau * (y_test[None] - Yt_hat)**2., 0) - np.log(T) \n",
    "        - 0.5*np.log(2*np.pi) + 0.5*np.log(tau))\n",
    "    test_ll = np.mean(log_likelihood)\n",
    "\n",
    "    return rmse_standard_pred, rmse, test_ll\n",
    "\n",
    "rmses = []\n",
    "for i in range(250):\n",
    "    rmse_standard_pred, rmse, test_ll = predict(x_test_padded[i:i+1], y_test[i:i+1])\n",
    "    rmses += [rmse]\n",
    "\n",
    "plt.hist(rmses)"
   ]
  }
 ],
 "metadata": {
  "kernelspec": {
   "display_name": "Python [conda env:mltf2]",
   "language": "python",
   "name": "conda-env-mltf2-py"
  },
  "language_info": {
   "codemirror_mode": {
    "name": "ipython",
    "version": 3
   },
   "file_extension": ".py",
   "mimetype": "text/x-python",
   "name": "python",
   "nbconvert_exporter": "python",
   "pygments_lexer": "ipython3",
   "version": "3.6.8"
  }
 },
 "nbformat": 4,
 "nbformat_minor": 2
}
