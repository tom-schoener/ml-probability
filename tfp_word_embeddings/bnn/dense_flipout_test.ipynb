{
 "cells": [
  {
   "cell_type": "markdown",
   "metadata": {},
   "source": [
    "# Dense Flipout Tests"
   ]
  },
  {
   "cell_type": "code",
   "execution_count": 1,
   "metadata": {},
   "outputs": [
    {
     "name": "stdout",
     "output_type": "stream",
     "text": [
      "Tensorflow Version: 2.0.0-beta1\n",
      "Tensorflow Probability Version: 0.8.0-dev20190619\n",
      "Found GPU: /device:GPU:0\n"
     ]
    }
   ],
   "source": [
    "from __future__ import absolute_import\n",
    "from __future__ import division\n",
    "from __future__ import print_function\n",
    "\n",
    "%matplotlib inline\n",
    "\n",
    "import matplotlib.pyplot as plt\n",
    "import numpy as np\n",
    "import tensorflow as tf\n",
    "import tensorflow_probability as tfp\n",
    "\n",
    "tfk = tf.keras\n",
    "tfkl = tfk.layers \n",
    "tfd = tfp.distributions\n",
    "tfpl = tfp.layers\n",
    "\n",
    "print(\"Tensorflow Version: %s\" % tf.__version__)\n",
    "print(\"Tensorflow Probability Version: %s\" % tfp.__version__)\n",
    "\n",
    "if tf.test.gpu_device_name() != '/device:GPU:0':\n",
    "      print('GPU device not found. Using CPU')\n",
    "else:\n",
    "      print('Found GPU: {}'.format(tf.test.gpu_device_name()))"
   ]
  },
  {
   "cell_type": "markdown",
   "metadata": {},
   "source": [
    "# Model"
   ]
  },
  {
   "cell_type": "code",
   "execution_count": 64,
   "metadata": {},
   "outputs": [
    {
     "name": "stdout",
     "output_type": "stream",
     "text": [
      "(5000, 1)\n"
     ]
    },
    {
     "data": {
      "image/png": "[encoded data removed]",
      "text/plain": [
       "<Figure size 432x288 with 1 Axes>"
      ]
     },
     "metadata": {
      "needs_background": "light"
     },
     "output_type": "display_data"
    }
   ],
   "source": [
    "def create_training_data(size=5000):\n",
    "    x_train = np.arange(0, 1, 1/size)\n",
    "    y_train = [x * 0.7 + np.random.normal(0, x*0.1) for x in x_train]\n",
    "    \n",
    "    return (tf.expand_dims(x_train, 1), tf.expand_dims(y_train, 1))\n",
    "\n",
    "x_train, y_train = create_training_data()\n",
    "plt.plot(x_train[:, 0], y_train[:, 0])\n",
    "print(x_train.shape)"
   ]
  },
  {
   "cell_type": "code",
   "execution_count": 78,
   "metadata": {},
   "outputs": [
    {
     "name": "stdout",
     "output_type": "stream",
     "text": [
      "Model: \"sequential_11\"\n",
      "_________________________________________________________________\n",
      "Layer (type)                 Output Shape              Param #   \n",
      "=================================================================\n",
      "dense_flipout_24 (DenseFlipo (None, 32)                96        \n",
      "_________________________________________________________________\n",
      "dense_flipout_25 (DenseFlipo (None, 32)                2080      \n",
      "_________________________________________________________________\n",
      "dense_flipout_26 (DenseFlipo (None, 1)                 65        \n",
      "=================================================================\n",
      "Total params: 2,241\n",
      "Trainable params: 2,241\n",
      "Non-trainable params: 0\n",
      "_________________________________________________________________\n"
     ]
    }
   ],
   "source": [
    "# https://github.com/tensorflow/probability/issues/282\n",
    "\n",
    "batch_size = 128\n",
    "\n",
    "def kernel_divergence_fn(q, p, _):\n",
    "    return tfd.kl_divergence(q, p) / tf.cast(x_train.shape[0], tf.float32)\n",
    "\n",
    "def loss(y_true, y_pred):\n",
    "    return tfk.losses.categorical_crossentropy(y_true, y_pred)\n",
    "\n",
    "model = None\n",
    "if True:\n",
    "    model = tfk.Sequential([\n",
    "        tfpl.DenseFlipout(32, input_shape=(1,), kernel_divergence_fn=kernel_divergence_fn),\n",
    "        tfpl.DenseFlipout(32, kernel_divergence_fn=kernel_divergence_fn),\n",
    "        tfpl.DenseFlipout(1, kernel_divergence_fn=kernel_divergence_fn)\n",
    "    ])\n",
    "    model.compile(optimizer=tfk.optimizers.Adam(0.0001), loss=loss)\n",
    "else:\n",
    "    model = tfk.Sequential([\n",
    "        tfkl.Dense(32, input_shape=(1,)),\n",
    "        tfkl.Dense(32),\n",
    "        tfkl.Dense(1),\n",
    "    ])\n",
    "    #model.compile(optimizer=tfk.optimizers.Adam(0.01), loss=tfk.losses.mean_squared_error)\n",
    "\n",
    "model.summary()"
   ]
  },
  {
   "cell_type": "code",
   "execution_count": 84,
   "metadata": {},
   "outputs": [
    {
     "name": "stdout",
     "output_type": "stream",
     "text": [
      "Done\n"
     ]
    }
   ],
   "source": [
    "model.fit(x_train, y_train, epochs=1000, batch_size=batch_size, validation_split=0.1, verbose=0)\n",
    "print(\"Done\")"
   ]
  },
  {
   "cell_type": "code",
   "execution_count": 51,
   "metadata": {},
   "outputs": [
    {
     "data": {
      "text/plain": [
       "array([[-0.65936226]], dtype=float32)"
      ]
     },
     "execution_count": 51,
     "metadata": {},
     "output_type": "execute_result"
    }
   ],
   "source": [
    "# without model compile\n",
    "\n",
    "features = x_train\n",
    "labels = y_train\n",
    "\n",
    "optimizer = tfk.optimizers.Adam(0.0001)\n",
    "\n",
    "@tf.function\n",
    "def train_step(inputs, labels):\n",
    "    with tf.GradientTape() as tape:\n",
    "        logits = model(features)\n",
    "        neg_log_likelihood = tf.nn.softmax_cross_entropy_with_logits(\n",
    "            labels=labels, logits=logits)\n",
    "        kl = sum(model.losses)\n",
    "        loss = neg_log_likelihood + kl\n",
    "\n",
    "    _grad = tape.gradient(loss, model.trainable_variables)\n",
    "    optimizer.apply_gradients(zip(_grad, model.trainable_variables))\n",
    "\n",
    "train_step(features, labels)\n",
    "model.predict([0.2])"
   ]
  },
  {
   "cell_type": "code",
   "execution_count": 89,
   "metadata": {},
   "outputs": [
    {
     "name": "stdout",
     "output_type": "stream",
     "text": [
      "0.3643942\n"
     ]
    },
    {
     "data": {
      "image/png": "[encoded data removed]",
      "text/plain": [
       "<Figure size 432x288 with 1 Axes>"
      ]
     },
     "metadata": {
      "needs_background": "light"
     },
     "output_type": "display_data"
    }
   ],
   "source": [
    "y_pred = []\n",
    "for i in range(1000):\n",
    "    y_pred += [np.squeeze(model.predict([0.5]))]\n",
    "\n",
    "print(np.mean(y_pred))\n",
    "plt.hist(y_pred, bins=20)\n",
    "None"
   ]
  },
  {
   "cell_type": "code",
   "execution_count": 81,
   "metadata": {},
   "outputs": [
    {
     "data": {
      "image/png": "[encoded data removed]",
      "text/plain": [
       "<Figure size 432x288 with 1 Axes>"
      ]
     },
     "metadata": {
      "needs_background": "light"
     },
     "output_type": "display_data"
    }
   ],
   "source": [
    "if hasattr(model, \"history\"):\n",
    "    history = model.history\n",
    "\n",
    "    # Plot training & validation loss values\n",
    "    plt.plot(history.history['loss'])\n",
    "    plt.plot(history.history['val_loss'])\n",
    "    plt.title('Model loss')\n",
    "    plt.ylabel('Loss')\n",
    "    plt.xlabel('Epoch')\n",
    "    plt.legend(['Train', 'Test'], loc='upper left')\n",
    "    plt.show()"
   ]
  }
 ],
 "metadata": {
  "kernelspec": {
   "display_name": "Python [conda env:mltf2]",
   "language": "python",
   "name": "conda-env-mltf2-py"
  },
  "language_info": {
   "codemirror_mode": {
    "name": "ipython",
    "version": 3
   },
   "file_extension": ".py",
   "mimetype": "text/x-python",
   "name": "python",
   "nbconvert_exporter": "python",
   "pygments_lexer": "ipython3",
   "version": "3.6.8"
  }
 },
 "nbformat": 4,
 "nbformat_minor": 2
}
