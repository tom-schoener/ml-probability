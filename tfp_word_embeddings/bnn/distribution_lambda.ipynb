{
 "cells": [
  {
   "cell_type": "markdown",
   "metadata": {},
   "source": [
    "# Bayes by Backprop"
   ]
  },
  {
   "cell_type": "code",
   "execution_count": 2,
   "metadata": {},
   "outputs": [
    {
     "name": "stdout",
     "output_type": "stream",
     "text": [
      "Tensorflow Version: 2.0.0-beta0\n",
      "Tensorflow Probability Version: 0.8.0-dev20190617\n",
      "Found GPU: /device:GPU:0\n"
     ]
    }
   ],
   "source": [
    "from __future__ import absolute_import\n",
    "from __future__ import division\n",
    "from __future__ import print_function\n",
    "\n",
    "%matplotlib inline\n",
    "\n",
    "import matplotlib.pyplot as plt\n",
    "import numpy as np\n",
    "import tensorflow as tf\n",
    "import tensorflow_probability as tfp\n",
    "\n",
    "tfk = tf.keras\n",
    "tfkl = tfk.layers \n",
    "tfd = tfp.distributions\n",
    "tfpl = tfp.layers\n",
    "\n",
    "print(\"Tensorflow Version: %s\" % tf.__version__)\n",
    "print(\"Tensorflow Probability Version: %s\" % tfp.__version__)\n",
    "\n",
    "if tf.test.gpu_device_name() != '/device:GPU:0':\n",
    "  print('GPU device not found. Using CPU')\n",
    "else:\n",
    "  print('Found GPU: {}'.format(tf.test.gpu_device_name()))\n",
    "\n",
    "# enable Tensorflow eager mode (only for tf version 1.13)\n",
    "# tf.enable_eager_execution()"
   ]
  },
  {
   "cell_type": "code",
   "execution_count": 3,
   "metadata": {},
   "outputs": [
    {
     "data": {
      "text/plain": [
       "<module 'commons' from 'D:\\\\Tom\\\\Documents\\\\gitworkspace\\\\master\\\\ml-probability\\\\tfp_word_embeddings\\\\commons.py'>"
      ]
     },
     "execution_count": 3,
     "metadata": {},
     "output_type": "execute_result"
    }
   ],
   "source": [
    "# commons package\n",
    "import os\n",
    "import sys\n",
    "import importlib\n",
    "\n",
    "module_path = os.path.abspath(os.path.join('..'))\n",
    "if module_path not in sys.path:\n",
    "    sys.path.append(module_path)\n",
    "\n",
    "import commons as cm\n",
    "importlib.reload(cm)"
   ]
  },
  {
   "cell_type": "markdown",
   "metadata": {},
   "source": [
    "# Configuration and Parameters"
   ]
  },
  {
   "cell_type": "code",
   "execution_count": 4,
   "metadata": {},
   "outputs": [],
   "source": [
    "# GloVe Configuration\n",
    "\n",
    "# Directory containing the GloVe files.\n",
    "GLOVE_DIR = \"D:/google drive/haw/master/mastertheisis/hauptprojekt\"\n",
    "\n",
    "# Embedding dimension\n",
    "EMBEDDING_DIM = 50"
   ]
  },
  {
   "cell_type": "code",
   "execution_count": 5,
   "metadata": {},
   "outputs": [],
   "source": [
    "imdb = cm.load_imdb()\n",
    "(x_train, y_train), (x_test, y_test) = imdb\n",
    "\n",
    "x_train, y_train, x_test, y_test = (x_train, y_train, x_test, y_test)"
   ]
  },
  {
   "cell_type": "code",
   "execution_count": 6,
   "metadata": {},
   "outputs": [],
   "source": [
    "# Bayes by Backprop parameters\n",
    "\n",
    "# model save file\n",
    "model_save_file = \"./models/distribution_lambda.h5\"\n",
    "\n",
    "# number of data points\n",
    "N = x_train.shape[0]\n",
    "\n",
    "# hidden layers where each element denotes the number of neurons\n",
    "n_hidden = [64, 64, 32]\n",
    "\n",
    "# batch size for training\n",
    "batch_size = 128\n",
    "\n",
    "# training epochs \n",
    "epochs = 15"
   ]
  },
  {
   "cell_type": "markdown",
   "metadata": {},
   "source": [
    "# GloVe Word Embedding"
   ]
  },
  {
   "cell_type": "code",
   "execution_count": 7,
   "metadata": {},
   "outputs": [
    {
     "name": "stdout",
     "output_type": "stream",
     "text": [
      "Found 400000 word vectors.\n",
      "17361/88587 unknown words\n"
     ]
    }
   ],
   "source": [
    "# GLOVE Word Embedding\n",
    "word_index = cm.WordIndex()\n",
    "embedding_index = cm.load_glove_embedding(GLOVE_DIR, EMBEDDING_DIM)\n",
    "(embedding_matrix, unknown_words) = word_index.match_glove(embedding_index=embedding_index, embedding_dim=EMBEDDING_DIM)\n",
    "max_length = cm.get_max_length(x_train, x_test)"
   ]
  },
  {
   "cell_type": "code",
   "execution_count": 8,
   "metadata": {},
   "outputs": [],
   "source": [
    "# pad input vectors\n",
    "x_train_padded = cm.pad_input(x_train, max_length)\n",
    "x_test_padded = cm.pad_input(x_test, max_length)"
   ]
  },
  {
   "cell_type": "markdown",
   "metadata": {},
   "source": [
    "# Model"
   ]
  },
  {
   "cell_type": "code",
   "execution_count": 9,
   "metadata": {},
   "outputs": [
    {
     "name": "stdout",
     "output_type": "stream",
     "text": [
      "model has not been trained\n",
      "Model: \"sequential\"\n",
      "_________________________________________________________________\n",
      "Layer (type)                 Output Shape              Param #   \n",
      "=================================================================\n",
      "embedding (Embedding)        (None, 2697, 50)          4429400   \n",
      "_________________________________________________________________\n",
      "dense (Dense)                (None, 2697, 64)          3264      \n",
      "_________________________________________________________________\n",
      "dense_1 (Dense)              (None, 2697, 64)          4160      \n",
      "_________________________________________________________________\n",
      "dense_2 (Dense)              (None, 2697, 32)          2080      \n",
      "_________________________________________________________________\n",
      "flatten (Flatten)            (None, 86304)             0         \n",
      "_________________________________________________________________\n",
      "dense_3 (Dense)              (None, 2)                 172610    \n",
      "_________________________________________________________________\n",
      "distribution_lambda (Distrib ((None, 1), (None, 1))    0         \n",
      "=================================================================\n",
      "Total params: 4,611,514\n",
      "Trainable params: 182,114\n",
      "Non-trainable params: 4,429,400\n",
      "_________________________________________________________________\n"
     ]
    }
   ],
   "source": [
    "def create_model():\n",
    "    model = tfk.Sequential()\n",
    "    \n",
    "    model.add(tfkl.Embedding(len(word_index.index) + 1,\n",
    "                                EMBEDDING_DIM,\n",
    "                                weights=[embedding_matrix],\n",
    "                                input_length=max_length,\n",
    "                                trainable=False))\n",
    "    \n",
    "    for i in range(len(n_hidden)):\n",
    "        model.add(tfkl.Dense(n_hidden[i], activation=\"relu\"))\n",
    "    \n",
    "    model.add(tfkl.Flatten())\n",
    "    model.add(tfkl.Dense(1 + 1))\n",
    "    model.add(tfp.layers.DistributionLambda(\n",
    "      lambda t: tfd.Normal(loc=t[..., :1],\n",
    "                           scale=1e-3 + tf.math.softplus(0.5 * t[...,1:]))))\n",
    "    \n",
    "    \n",
    "    negloglik = lambda y, rv_y: -rv_y.log_prob(y)\n",
    "    model.compile(optimizer=tfk.optimizers.Adam(0.001), loss=negloglik, metrics=['acc'])\n",
    "\n",
    "    return model\n",
    "\n",
    "try:\n",
    "    model = tfk.models.load_model(model_save_file)\n",
    "    print(\"using saved model\")\n",
    "except:\n",
    "    model = create_model()\n",
    "    print(\"model has not been trained\")\n",
    "model.summary()"
   ]
  },
  {
   "cell_type": "code",
   "execution_count": null,
   "metadata": {},
   "outputs": [
    {
     "name": "stdout",
     "output_type": "stream",
     "text": [
      "Train on 23750 samples, validate on 1250 samples\n",
      "Epoch 1/15\n",
      "23680/23750 [============================>.] - ETA: 0s - loss: 0.8303 - acc: 0.5113\n",
      "Epoch 00001: val_loss improved from inf to 0.63835, saving model to ./models/distribution_lambda.h5\n",
      "23750/23750 [==============================] - 13s 536us/sample - loss: 0.8299 - acc: 0.5111 - val_loss: 0.6383 - val_acc: 0.5560\n",
      "Epoch 2/15\n",
      "23680/23750 [============================>.] - ETA: 0s - loss: 0.5563 - acc: 0.6130\n",
      "Epoch 00002: val_loss improved from 0.63835 to 0.52964, saving model to ./models/distribution_lambda.h5\n",
      "23750/23750 [==============================] - 12s 492us/sample - loss: 0.5571 - acc: 0.6127 - val_loss: 0.5296 - val_acc: 0.6536\n",
      "Epoch 3/15\n",
      "23680/23750 [============================>.] - ETA: 0s - loss: 0.4270 - acc: 0.6862\n",
      "Epoch 00003: val_loss improved from 0.52964 to 0.51191, saving model to ./models/distribution_lambda.h5\n",
      "23750/23750 [==============================] - 12s 501us/sample - loss: 0.4269 - acc: 0.6865 - val_loss: 0.5119 - val_acc: 0.6648\n",
      "Epoch 4/15\n",
      "23680/23750 [============================>.] - ETA: 0s - loss: 0.3553 - acc: 0.7224\n",
      "Epoch 00004: val_loss did not improve from 0.51191\n",
      "23750/23750 [==============================] - 12s 489us/sample - loss: 0.3555 - acc: 0.7223 - val_loss: 0.5242 - val_acc: 0.6880\n",
      "Epoch 5/15\n",
      "23680/23750 [============================>.] - ETA: 0s - loss: 0.3051 - acc: 0.7417\n",
      "Epoch 00005: val_loss did not improve from 0.51191\n",
      "23750/23750 [==============================] - 12s 485us/sample - loss: 0.3048 - acc: 0.7419 - val_loss: 0.5360 - val_acc: 0.7008\n",
      "Epoch 6/15\n",
      "23680/23750 [============================>.] - ETA: 0s - loss: 0.2549 - acc: 0.7632\n",
      "Epoch 00006: val_loss did not improve from 0.51191\n",
      "23750/23750 [==============================] - 12s 490us/sample - loss: 0.2550 - acc: 0.7630 - val_loss: 0.5319 - val_acc: 0.6592\n",
      "Epoch 7/15\n",
      "23680/23750 [============================>.] - ETA: 0s - loss: 0.2225 - acc: 0.7788\n",
      "Epoch 00007: val_loss did not improve from 0.51191\n",
      "23750/23750 [==============================] - 12s 485us/sample - loss: 0.2226 - acc: 0.7787 - val_loss: 0.7591 - val_acc: 0.7088\n",
      "Epoch 8/15\n",
      "23680/23750 [============================>.] - ETA: 0s - loss: 0.1741 - acc: 0.7948\n",
      "Epoch 00008: val_loss did not improve from 0.51191\n",
      "23750/23750 [==============================] - 12s 487us/sample - loss: 0.1744 - acc: 0.7945 - val_loss: 0.7366 - val_acc: 0.7008\n",
      "Epoch 9/15\n",
      "23680/23750 [============================>.] - ETA: 0s - loss: 0.1621 - acc: 0.8001\n",
      "Epoch 00009: val_loss did not improve from 0.51191\n",
      "23750/23750 [==============================] - 12s 487us/sample - loss: 0.1623 - acc: 0.8001 - val_loss: 0.7881 - val_acc: 0.7056\n",
      "Epoch 10/15\n",
      "21120/23750 [=========================>....] - ETA: 1s - loss: 0.1323 - acc: 0.8130"
     ]
    }
   ],
   "source": [
    "# https://github.com/tensorflow/probability/blob/master/tensorflow_probability/examples/jupyter_notebooks/Probabilistic_Layers_Regression.ipynb\n",
    "tb_callback = tfk.callbacks.TensorBoard(log_dir='logs') \n",
    "model_checkpoint_cb = tfk.callbacks.ModelCheckpoint(model_save_file, \n",
    "                                                      monitor='val_loss', \n",
    "                                                      verbose=1, \n",
    "                                                      save_best_only=True, \n",
    "                                                      save_weights_only=False, \n",
    "                                                      mode='auto')\n",
    "\n",
    "model.fit(x_train_padded, y_train, validation_split=0.05, epochs=epochs, batch_size=batch_size, callbacks=[tb_callback, model_checkpoint_cb])"
   ]
  },
  {
   "cell_type": "code",
   "execution_count": 129,
   "metadata": {},
   "outputs": [
    {
     "data": {
      "image/png": "[encoded data removed]",
      "text/plain": [
       "<Figure size 432x288 with 1 Axes>"
      ]
     },
     "metadata": {
      "needs_background": "light"
     },
     "output_type": "display_data"
    },
    {
     "data": {
      "image/png": "[encoded data removed]",
      "text/plain": [
       "<Figure size 432x288 with 1 Axes>"
      ]
     },
     "metadata": {
      "needs_background": "light"
     },
     "output_type": "display_data"
    }
   ],
   "source": [
    "if hasattr(model, \"history\"):\n",
    "    history = model.history\n",
    "\n",
    "    # Plot training & validation accuracy values\n",
    "    plt.plot(history.history['acc'])\n",
    "    plt.plot(history.history['val_acc'])\n",
    "    plt.title('Model accuracy')\n",
    "    plt.ylabel('Accuracy')\n",
    "    plt.xlabel('Epoch')\n",
    "    plt.legend(['Train', 'Test'], loc='upper left')\n",
    "    plt.show()\n",
    "\n",
    "    # Plot training & validation loss values\n",
    "    plt.plot(history.history['loss'])\n",
    "    plt.plot(history.history['val_loss'])\n",
    "    plt.title('Model loss')\n",
    "    plt.ylabel('Loss')\n",
    "    plt.xlabel('Epoch')\n",
    "    plt.legend(['Train', 'Test'], loc='upper left')\n",
    "    plt.show()"
   ]
  },
  {
   "cell_type": "code",
   "execution_count": 127,
   "metadata": {},
   "outputs": [
    {
     "name": "stdout",
     "output_type": "stream",
     "text": [
      "[0.37982348] [0.36954394]\n",
      "[0.8028181] [0.35194165]\n",
      "[1.1545851] [0.19344607]\n",
      "[0.45221096] [0.28316417]\n",
      "[0.35211736] [0.38696972]\n",
      "[0.25735107] [0.31997412]\n",
      "[0.4514123] [0.23518147]\n",
      "[0.09308261] [0.34894997]\n",
      "[0.49045205] [0.32704675]\n",
      "[0.5549608] [0.24733195]\n",
      "[0.73718566] [0.32193124]\n",
      "[0.45776546] [0.35267773]\n",
      "[0.5571943] [0.25585285]\n",
      "[0.33204824] [0.211839]\n",
      "[0.9020314] [0.32680866]\n",
      "[-0.34657428] [0.33330733]\n",
      "[0.85236025] [0.3550978]\n",
      "[0.5285315] [0.3475883]\n",
      "[0.41470498] [0.34902698]\n",
      "[0.53296566] [0.35011464]\n"
     ]
    },
    {
     "data": {
      "text/plain": [
       "[None,\n",
       " None,\n",
       " None,\n",
       " None,\n",
       " None,\n",
       " None,\n",
       " None,\n",
       " None,\n",
       " None,\n",
       " None,\n",
       " None,\n",
       " None,\n",
       " None,\n",
       " None,\n",
       " None,\n",
       " None,\n",
       " None,\n",
       " None,\n",
       " None,\n",
       " None]"
      ]
     },
     "execution_count": 127,
     "metadata": {},
     "output_type": "execute_result"
    }
   ],
   "source": [
    "preds = model(x_test_padded[:20])\n",
    "[print(mean.numpy(), std.numpy()) for (mean, std) in zip(preds.mean(), preds.stddev())]"
   ]
  }
 ],
 "metadata": {
  "kernelspec": {
   "display_name": "Python [conda env:mltf2]",
   "language": "python",
   "name": "conda-env-mltf2-py"
  },
  "language_info": {
   "codemirror_mode": {
    "name": "ipython",
    "version": 3
   },
   "file_extension": ".py",
   "mimetype": "text/x-python",
   "name": "python",
   "nbconvert_exporter": "python",
   "pygments_lexer": "ipython3",
   "version": "3.6.8"
  }
 },
 "nbformat": 4,
 "nbformat_minor": 2
}
