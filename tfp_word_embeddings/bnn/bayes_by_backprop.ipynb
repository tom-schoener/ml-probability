{
 "cells": [
  {
   "cell_type": "markdown",
   "metadata": {},
   "source": [
    "# Bayes by Backprop"
   ]
  },
  {
   "cell_type": "code",
   "execution_count": 1,
   "metadata": {},
   "outputs": [
    {
     "name": "stderr",
     "output_type": "stream",
     "text": [
      "C:\\Users\\Tom\\Anaconda3\\envs\\mltf2\\lib\\site-packages\\ipykernel\\parentpoller.py:116: UserWarning: Parent poll failed.  If the frontend dies,\n",
      "                the kernel may be left running.  Please let us know\n",
      "                about your system (bitness, Python, etc.) at\n",
      "                ipython-dev@scipy.org\n",
      "  ipython-dev@scipy.org\"\"\")\n"
     ]
    },
    {
     "name": "stdout",
     "output_type": "stream",
     "text": [
      "Tensorflow Version: 2.0.0-beta1\n",
      "Tensorflow Probability Version: 0.8.0-dev20190619\n",
      "Found GPU: /device:GPU:0\n"
     ]
    }
   ],
   "source": [
    "from __future__ import absolute_import\n",
    "from __future__ import division\n",
    "from __future__ import print_function\n",
    "\n",
    "%matplotlib inline\n",
    "\n",
    "import matplotlib.pyplot as plt\n",
    "import numpy as np\n",
    "import tensorflow as tf\n",
    "import tensorflow_probability as tfp\n",
    "\n",
    "tfk = tf.keras\n",
    "tfkl = tfk.layers \n",
    "tfd = tfp.distributions\n",
    "tfpl = tfp.layers\n",
    "\n",
    "print(\"Tensorflow Version: %s\" % tf.__version__)\n",
    "print(\"Tensorflow Probability Version: %s\" % tfp.__version__)\n",
    "\n",
    "if tf.test.gpu_device_name() != '/device:GPU:0':\n",
    "    print('GPU device not found. Using CPU')\n",
    "else:\n",
    "    print('Found GPU: {}'.format(tf.test.gpu_device_name()))"
   ]
  },
  {
   "cell_type": "code",
   "execution_count": 2,
   "metadata": {},
   "outputs": [
    {
     "data": {
      "text/plain": [
       "<module 'commons' from 'D:\\\\Tom\\\\Documents\\\\gitworkspace\\\\master\\\\ml-probability\\\\tfp_word_embeddings\\\\commons.py'>"
      ]
     },
     "execution_count": 2,
     "metadata": {},
     "output_type": "execute_result"
    }
   ],
   "source": [
    "# commons package\n",
    "import os\n",
    "import sys\n",
    "import importlib\n",
    "\n",
    "module_path = os.path.abspath(os.path.join('..'))\n",
    "if module_path not in sys.path:\n",
    "    sys.path.append(module_path)\n",
    "\n",
    "import commons as cm\n",
    "importlib.reload(cm)"
   ]
  },
  {
   "cell_type": "markdown",
   "metadata": {},
   "source": [
    "# Configuration and Parameters"
   ]
  },
  {
   "cell_type": "code",
   "execution_count": 3,
   "metadata": {},
   "outputs": [],
   "source": [
    "# GloVe Configuration\n",
    "\n",
    "# Directory containing the GloVe files.\n",
    "GLOVE_DIR = \"D:/google drive/haw/master/mastertheisis/hauptprojekt\"\n",
    "\n",
    "# Embedding dimension\n",
    "EMBEDDING_DIM = 50"
   ]
  },
  {
   "cell_type": "code",
   "execution_count": 266,
   "metadata": {},
   "outputs": [
    {
     "name": "stdout",
     "output_type": "stream",
     "text": [
      "[0. 1.] 1\n"
     ]
    }
   ],
   "source": [
    "imdb = cm.load_imdb()\n",
    "(x_train, y_train), (x_test, y_test) = imdb\n",
    "y_train_categorical = tfk.utils.to_categorical(y_train, 2)\n",
    "y_test_categorical = tfk.utils.to_categorical(y_test, 2)"
   ]
  },
  {
   "cell_type": "code",
   "execution_count": 295,
   "metadata": {},
   "outputs": [],
   "source": [
    "# Bayes by Backprop parameters\n",
    "\n",
    "# model save file\n",
    "model_save_file = \"./models/bayes_by_backprop.h5\"\n",
    "\n",
    "# number of data points\n",
    "N = x_train.shape[0]\n",
    "\n",
    "# hidden layers where each element denotes the number of neurons\n",
    "n_hidden = [32, 32]\n",
    "\n",
    "# batch size for training\n",
    "batch_size = 128\n",
    "\n",
    "# training epochs \n",
    "epochs = 20\n",
    "\n",
    "# validation split\n",
    "validation_split = 0.05"
   ]
  },
  {
   "cell_type": "markdown",
   "metadata": {},
   "source": [
    "# GloVe Word Embedding"
   ]
  },
  {
   "cell_type": "code",
   "execution_count": 6,
   "metadata": {},
   "outputs": [
    {
     "name": "stdout",
     "output_type": "stream",
     "text": [
      "Found 400000 word vectors.\n",
      "17361/88587 unknown words\n"
     ]
    }
   ],
   "source": [
    "# GLOVE Word Embedding\n",
    "word_index = cm.WordIndex()\n",
    "embedding_index = cm.load_glove_embedding(GLOVE_DIR, EMBEDDING_DIM)\n",
    "(embedding_matrix, unknown_words) = word_index.match_glove(embedding_index=embedding_index, embedding_dim=EMBEDDING_DIM)\n",
    "max_length = cm.get_max_length(x_train, x_test)"
   ]
  },
  {
   "cell_type": "code",
   "execution_count": 7,
   "metadata": {},
   "outputs": [],
   "source": [
    "# pad input vectors\n",
    "x_train_padded = cm.pad_input(x_train, max_length)\n",
    "x_test_padded = cm.pad_input(x_test, max_length)"
   ]
  },
  {
   "cell_type": "markdown",
   "metadata": {},
   "source": [
    "# Model"
   ]
  },
  {
   "cell_type": "code",
   "execution_count": 294,
   "metadata": {},
   "outputs": [
    {
     "name": "stdout",
     "output_type": "stream",
     "text": [
      "using saved model\n",
      "Model: \"sequential_42\"\n",
      "_________________________________________________________________\n",
      "Layer (type)                 Output Shape              Param #   \n",
      "=================================================================\n",
      "embedding_31 (Embedding)     (None, 2697, 50)          4429400   \n",
      "_________________________________________________________________\n",
      "dense_flipout_30 (DenseFlipo (None, 2697, 32)          3232      \n",
      "_________________________________________________________________\n",
      "dense_flipout_31 (DenseFlipo (None, 2697, 32)          2080      \n",
      "_________________________________________________________________\n",
      "flatten_42 (Flatten)         (None, 86304)             0         \n",
      "_________________________________________________________________\n",
      "dense_flipout_32 (DenseFlipo (None, 2)                 345218    \n",
      "=================================================================\n",
      "Total params: 4,779,930\n",
      "Trainable params: 350,530\n",
      "Non-trainable params: 4,429,400\n",
      "_________________________________________________________________\n"
     ]
    }
   ],
   "source": [
    "# https://github.com/tensorflow/probability/issues/282\n",
    "\n",
    "def kernel_divergence_fn(q, p, _):\n",
    "    return tfd.kl_divergence(q, p) / tf.cast(x_train_padded.shape[0] * (1 - validation_split), tf.float32)\n",
    "\n",
    "def create_model():\n",
    "    model = tfk.Sequential()\n",
    "    \n",
    "    model.add(tfkl.Embedding(len(word_index.index) + 1,\n",
    "                                EMBEDDING_DIM,\n",
    "                                weights=[embedding_matrix],\n",
    "                                input_length=max_length,\n",
    "                                trainable=False))\n",
    "    for i in range(len(n_hidden)):\n",
    "        model.add(tfpl.DenseFlipout(\n",
    "            n_hidden[i], activation='relu', kernel_divergence_fn=kernel_divergence_fn))\n",
    "    model.add(tfkl.Flatten())\n",
    "    model.add(tfpl.DenseFlipout(2, activation=\"softmax\", kernel_divergence_fn=kernel_divergence_fn))\n",
    "    \n",
    "    model.compile(optimizer=tfk.optimizers.Adam(0.001), loss=tfk.losses.categorical_crossentropy, metrics=['acc'])\n",
    "    \n",
    "    return model\n",
    "\n",
    "try:\n",
    "    model = create_model()\n",
    "    model.load_weights(model_save_file)\n",
    "    \n",
    "    # https://github.com/tensorflow/probability/issues/325\n",
    "    # model = tfk.models.load_model(model_save_file)\n",
    "    print(\"using saved model\")\n",
    "except IOError:\n",
    "    model = create_model()\n",
    "    print(\"model has not been trained (IOError)\")\n",
    "model.summary()"
   ]
  },
  {
   "cell_type": "code",
   "execution_count": 296,
   "metadata": {},
   "outputs": [
    {
     "name": "stdout",
     "output_type": "stream",
     "text": [
      "Train on 23750 samples, validate on 1250 samples\n",
      "Epoch 1/20\n",
      "23750/23750 [==============================] - 18s 767us/sample - loss: 17.9516 - acc: 0.6420 - val_loss: 17.2964 - val_acc: 0.7408\n",
      "Epoch 2/20\n",
      "23750/23750 [==============================] - 17s 705us/sample - loss: 16.7160 - acc: 0.7574 - val_loss: 16.1196 - val_acc: 0.7848\n",
      "Epoch 3/20\n",
      "23750/23750 [==============================] - 17s 704us/sample - loss: 15.5497 - acc: 0.7888 - val_loss: 14.9805 - val_acc: 0.8016\n",
      "Epoch 4/20\n",
      "23750/23750 [==============================] - 17s 707us/sample - loss: 14.4062 - acc: 0.8020 - val_loss: 13.8595 - val_acc: 0.8088\n",
      "Epoch 5/20\n",
      "23750/23750 [==============================] - 17s 708us/sample - loss: 13.2714 - acc: 0.8146 - val_loss: 12.7353 - val_acc: 0.8176\n",
      "Epoch 6/20\n",
      "23750/23750 [==============================] - 17s 706us/sample - loss: 12.1731 - acc: 0.8190 - val_loss: 11.6497 - val_acc: 0.8264\n",
      "Epoch 7/20\n",
      "23750/23750 [==============================] - 17s 705us/sample - loss: 11.0919 - acc: 0.8257 - val_loss: 10.6056 - val_acc: 0.8240\n",
      "Epoch 8/20\n",
      "23750/23750 [==============================] - 17s 707us/sample - loss: 10.0478 - acc: 0.8272 - val_loss: 9.5839 - val_acc: 0.8128\n",
      "Epoch 9/20\n",
      "23750/23750 [==============================] - 17s 709us/sample - loss: 9.0430 - acc: 0.8326 - val_loss: 8.6082 - val_acc: 0.8256\n",
      "Epoch 10/20\n",
      "23750/23750 [==============================] - 17s 704us/sample - loss: 8.0807 - acc: 0.8366 - val_loss: 7.6680 - val_acc: 0.8248\n",
      "Epoch 11/20\n",
      "23750/23750 [==============================] - 17s 707us/sample - loss: 7.1747 - acc: 0.8392 - val_loss: 6.7869 - val_acc: 0.8240\n",
      "Epoch 12/20\n",
      "23750/23750 [==============================] - 17s 713us/sample - loss: 6.3287 - acc: 0.8400 - val_loss: 5.9972 - val_acc: 0.8184\n",
      "Epoch 13/20\n",
      "23750/23750 [==============================] - 17s 713us/sample - loss: 5.5477 - acc: 0.8456 - val_loss: 5.2513 - val_acc: 0.8256\n",
      "Epoch 14/20\n",
      "23750/23750 [==============================] - 17s 711us/sample - loss: 4.8454 - acc: 0.8443 - val_loss: 4.5789 - val_acc: 0.8264\n",
      "Epoch 15/20\n",
      "23750/23750 [==============================] - 17s 707us/sample - loss: 4.2126 - acc: 0.8483 - val_loss: 4.0013 - val_acc: 0.8272\n",
      "Epoch 16/20\n",
      "23750/23750 [==============================] - 17s 705us/sample - loss: 3.6588 - acc: 0.8481 - val_loss: 3.4795 - val_acc: 0.8368\n",
      "Epoch 17/20\n",
      "23750/23750 [==============================] - 17s 712us/sample - loss: 3.1822 - acc: 0.8504 - val_loss: 3.0242 - val_acc: 0.8352\n",
      "Epoch 18/20\n",
      "23750/23750 [==============================] - 17s 715us/sample - loss: 2.7772 - acc: 0.8543 - val_loss: 2.6846 - val_acc: 0.8360\n",
      "Epoch 19/20\n",
      "23750/23750 [==============================] - 17s 712us/sample - loss: 2.4470 - acc: 0.8537 - val_loss: 2.3901 - val_acc: 0.8304\n",
      "Epoch 20/20\n",
      "23750/23750 [==============================] - 17s 712us/sample - loss: 2.1788 - acc: 0.8531 - val_loss: 2.1571 - val_acc: 0.8352\n"
     ]
    },
    {
     "data": {
      "text/plain": [
       "<tensorflow.python.keras.callbacks.History at 0x1e0e042ee10>"
      ]
     },
     "execution_count": 296,
     "metadata": {},
     "output_type": "execute_result"
    }
   ],
   "source": [
    "# keras callbacks\n",
    "tb_callback = tfk.callbacks.TensorBoard(log_dir='logs') \n",
    "model_checkpoint_cb = tfk.callbacks.ModelCheckpoint(model_save_file, \n",
    "                                                      monitor='val_loss', \n",
    "                                                      verbose=0, \n",
    "                                                      save_best_only=True, \n",
    "                                                      save_weights_only=True, \n",
    "                                                      mode='auto')\n",
    "\n",
    "model.fit(x_train_padded, \n",
    "          y_train_categorical, \n",
    "          validation_split=validation_split, \n",
    "          epochs=epochs, \n",
    "          batch_size=batch_size, \n",
    "          callbacks=[tb_callback, model_checkpoint_cb])"
   ]
  },
  {
   "cell_type": "code",
   "execution_count": 297,
   "metadata": {},
   "outputs": [
    {
     "name": "stdout",
     "output_type": "stream",
     "text": [
      "25000/25000 [==============================] - 21s 840us/sample - loss: 2.1394 - acc: 0.8254\n",
      "Test loss: 2.14\n",
      "Test accuracy: 82.54%\n"
     ]
    }
   ],
   "source": [
    "loss, accuracy = model.evaluate(x_test_padded, y_test_categorical)\n",
    "print(\"Test loss: %.2f\\nTest accuracy: %.2f%%\" % (loss, accuracy * 100))"
   ]
  },
  {
   "cell_type": "code",
   "execution_count": 302,
   "metadata": {},
   "outputs": [
    {
     "data": {
      "image/png": "[encoded data removed]",
      "text/plain": [
       "<Figure size 432x288 with 1 Axes>"
      ]
     },
     "metadata": {
      "needs_background": "light"
     },
     "output_type": "display_data"
    }
   ],
   "source": [
    "def plot_confidence(means, stddevs, true_ys):\n",
    "    x = np.arange(0, len(means), 1)\n",
    "    y = means\n",
    "    yerr = np.array(stddevs) * 2\n",
    "\n",
    "    fig, ax = plt.subplots()\n",
    "    plt.xlabel(\"movie\")\n",
    "    plt.ylabel(\"predicted probability\")\n",
    "    \n",
    "    ax.hlines(y=[0, 0.5, 1], xmin=0, xmax=len(x) - 1, linewidth=1, linestyle=\":\", color=[\"black\", \"gray\", \"black\"])\n",
    "    ax.errorbar(x, y, yerr=yerr, fmt=\"o\", elinewidth=1, color=\"black\")\n",
    "    ax.errorbar(x, true_ys, fmt=\"x\", color=\"r\")\n",
    "    plt.show()\n",
    "\n",
    "\n",
    "n = 20\n",
    "samples = 75\n",
    "y_pred = []\n",
    "for i in range(samples):\n",
    "    prediction = model.predict(x_test_padded[:n])\n",
    "    y_pred += [prediction[:, 1]]\n",
    "\n",
    "    \n",
    "y_pred = np.array(y_pred)\n",
    "means = [np.mean(y_pred[:, i]) for i in range(n)]\n",
    "stddevs = [np.std(y_pred[:, i]) for i in range(n)]\n",
    "plot_confidence(means, stddevs, y_test[:n])"
   ]
  },
  {
   "cell_type": "code",
   "execution_count": 299,
   "metadata": {},
   "outputs": [
    {
     "data": {
      "image/png": "[encoded data removed]",
      "text/plain": [
       "<Figure size 432x288 with 1 Axes>"
      ]
     },
     "metadata": {
      "needs_background": "light"
     },
     "output_type": "display_data"
    },
    {
     "data": {
      "image/png": "[encoded data removed]",
      "text/plain": [
       "<Figure size 432x288 with 1 Axes>"
      ]
     },
     "metadata": {
      "needs_background": "light"
     },
     "output_type": "display_data"
    }
   ],
   "source": [
    "if hasattr(model, \"history\"):\n",
    "    history = model.history\n",
    "\n",
    "    # Plot training & validation accuracy values\n",
    "    plt.plot(history.history['acc'])\n",
    "    plt.plot(history.history['val_acc'])\n",
    "    plt.title('Model accuracy')\n",
    "    plt.ylabel('Accuracy')\n",
    "    plt.xlabel('Epoch')\n",
    "    plt.legend(['Train', 'Test'], loc='upper left')\n",
    "    plt.show()\n",
    "\n",
    "    # Plot training & validation loss values\n",
    "    plt.plot(history.history['loss'])\n",
    "    plt.plot(history.history['val_loss'])\n",
    "    plt.title('Model loss')\n",
    "    plt.ylabel('Loss')\n",
    "    plt.xlabel('Epoch')\n",
    "    plt.legend(['Train', 'Test'], loc='upper left')\n",
    "    plt.show()"
   ]
  }
 ],
 "metadata": {
  "kernelspec": {
   "display_name": "Python [conda env:mltf2]",
   "language": "python",
   "name": "conda-env-mltf2-py"
  },
  "language_info": {
   "codemirror_mode": {
    "name": "ipython",
    "version": 3
   },
   "file_extension": ".py",
   "mimetype": "text/x-python",
   "name": "python",
   "nbconvert_exporter": "python",
   "pygments_lexer": "ipython3",
   "version": "3.6.8"
  }
 },
 "nbformat": 4,
 "nbformat_minor": 2
}
