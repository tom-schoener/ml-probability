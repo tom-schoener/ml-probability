{
 "cells": [
  {
   "cell_type": "markdown",
   "metadata": {},
   "source": [
    "# IMDB Dataset"
   ]
  },
  {
   "cell_type": "code",
   "execution_count": 1,
   "metadata": {},
   "outputs": [
    {
     "name": "stdout",
     "output_type": "stream",
     "text": [
      "Tensorflow Version: 2.0.0-beta1\n",
      "Tensorflow Probability Version: 0.8.0-dev20190619\n",
      "Found GPU: /device:GPU:0\n"
     ]
    }
   ],
   "source": [
    "from __future__ import absolute_import\n",
    "from __future__ import division\n",
    "from __future__ import print_function\n",
    "\n",
    "%matplotlib inline\n",
    "\n",
    "import matplotlib.pyplot as plt\n",
    "import pandas as pd\n",
    "import numpy as np\n",
    "import tensorflow as tf\n",
    "import tensorflow_probability as tfp\n",
    "\n",
    "tfk = tf.keras\n",
    "tfkl = tfk.layers \n",
    "tfd = tfp.distributions\n",
    "tfpl = tfp.layers\n",
    "\n",
    "print(\"Tensorflow Version: %s\" % tf.__version__)\n",
    "print(\"Tensorflow Probability Version: %s\" % tfp.__version__)\n",
    "\n",
    "if tf.test.gpu_device_name() != '/device:GPU:0':\n",
    "    print('GPU device not found. Using CPU')\n",
    "else:\n",
    "    print('Found GPU: {}'.format(tf.test.gpu_device_name()))"
   ]
  },
  {
   "cell_type": "code",
   "execution_count": 20,
   "metadata": {},
   "outputs": [
    {
     "data": {
      "text/plain": [
       "<module 'commons' from 'D:\\\\Tom\\\\Documents\\\\gitworkspace\\\\master\\\\ml-probability\\\\bayesian_nlp\\\\commons.py'>"
      ]
     },
     "execution_count": 20,
     "metadata": {},
     "output_type": "execute_result"
    }
   ],
   "source": [
    "# load commons and models module\n",
    "import os\n",
    "import sys\n",
    "import importlib\n",
    "\n",
    "module_path = os.path.abspath(os.path.join('..'))\n",
    "if module_path not in sys.path:\n",
    "    sys.path.append(module_path)\n",
    "\n",
    "import commons as cm\n",
    "importlib.reload(cm)"
   ]
  },
  {
   "cell_type": "code",
   "execution_count": 11,
   "metadata": {},
   "outputs": [
    {
     "name": "stdout",
     "output_type": "stream",
     "text": [
      "[1, 13, 28, 332, 4, 274, 5, 13, 215, 135, 15, 14, 20, 2677, 283, 8, 812, 13, 104, 14, 9, 4, 454, 7, 4, 1987, 3106, 11, 4, 172, 512, 7, 2167, 10343, 5335, 408, 35, 321, 239, 17, 4, 485, 5, 8364, 7932, 408, 35, 321, 696, 284, 17, 4, 375, 1312, 3608, 13, 28, 110, 14, 20, 33, 222, 1453, 5, 13, 104, 15, 13, 244, 170, 8, 818, 199, 4, 274, 5, 4, 20, 18, 61, 1594, 4, 836, 43, 941, 1430, 56, 8, 4, 7754, 130, 4, 1009, 25, 80, 115, 67, 582, 48, 25, 40, 102, 40, 4084, 5, 4, 2059, 4, 5572, 80, 30, 6, 356, 18699, 82, 51, 9, 221, 9, 4, 156, 11, 4, 20, 25, 62, 24, 2537, 98, 48, 25, 122, 24, 332, 4, 898, 4, 522, 1516, 20205, 9, 87, 17, 4, 2153, 167, 5, 1808, 6649, 9, 321, 17, 4, 3852, 82, 50, 9, 5355, 13162, 37, 9, 2184, 21, 87] 1\n"
     ]
    }
   ],
   "source": [
    "# load the imdb datasets without word length restrictions\n",
    "(x_train, y_train), (x_test, y_test), (x_validation, y_validation) = cm.load_imdb()\n",
    "word_index = cm.WordIndex(embedding_dim=50)\n",
    "print(x_train[0], y_train[0])"
   ]
  },
  {
   "cell_type": "code",
   "execution_count": 21,
   "metadata": {},
   "outputs": [
    {
     "name": "stdout",
     "output_type": "stream",
     "text": [
      "Threshold: 1000 -> 171/50000 (0.36%) are not under the threshold\n",
      "mean: 234\n",
      "0.00 Quantile: 7 \n",
      "0.25 Quantile: 129 \n",
      "0.50 Quantile: 176 \n",
      "0.75 Quantile: 285 \n",
      "0.95 Quantile: 598 \n",
      "1.00 Quantile: 2494 \n"
     ]
    },
    {
     "data": {
      "image/png": "[encoded data removed]",
      "text/plain": [
       "<Figure size 432x288 with 1 Axes>"
      ]
     },
     "metadata": {
      "needs_background": "light"
     },
     "output_type": "display_data"
    }
   ],
   "source": [
    "x_imdb = [*x_train, *x_test, *x_validation]\n",
    "word_counts = [len(n) for n in x_imdb]\n",
    "threshold = 1000\n",
    "over_threshold_n = np.sum(np.array(word_counts) > threshold)\n",
    "\n",
    "print(\"Threshold: %i -> %i/%i (%.2f%%) are not under the threshold\" % (threshold, \n",
    "                                                                       over_threshold_n, \n",
    "                                                                       len(x_imdb), \n",
    "                                                                       100 * over_threshold_n / len([*x_train, *x_test])))\n",
    "\n",
    "print(\"mean: %i\" % np.mean(word_counts))\n",
    "for q in [0, 0.25, 0.5, 0.75, 0.95, 1.0]:\n",
    "    print(\"%.2f Quantile: %i \" % (q, np.quantile(word_counts, q=q)))\n",
    "\n",
    "fig, ax = plt.subplots()\n",
    "plt.hist(word_counts, bins=75)\n",
    "plt.axvline(x=threshold, color=\"black\", linestyle=\"--\")\n",
    "plt.xlabel(\"word count\")\n",
    "plt.ylabel(\"number of entries\")\n",
    "plt.title(\"IMDB Dataset word count\")\n",
    "plt.savefig(\"D:/google drive/haw/master/mastertheisis/hauptprojekt/dataset/imdb_word_count.pdf\")\n",
    "plt.show()"
   ]
  },
  {
   "cell_type": "code",
   "execution_count": 13,
   "metadata": {},
   "outputs": [
    {
     "name": "stdout",
     "output_type": "stream",
     "text": [
      "<START> i have read the book and i must say that this movie stays true to form i think this is the beginning of the psychological thrillers in the same genre of psycho cristina raines gives an excellent performance as the lead and burgess meredith gives an excellent supporting actor as the next door neighbor i have seen this movie at least twice and i think that i am going to buy both the book and the movie for my collection the suspense just keeps building up to the climatic end the twist you will never see coming if you like movies like signs and the village the sentinel will be a classic prelude also what is interesting is the actors in the movie you would not recognize them if you did not read the credits the late jerry orbach is great as the commercial director and jeff goldblum is excellent as the photographer also there is beverly d'angelo who is underrated but great\n"
     ]
    }
   ],
   "source": [
    "# parsed sentence\n",
    "print(word_index.vec2sentence(x_train[0]))"
   ]
  }
 ],
 "metadata": {
  "kernelspec": {
   "display_name": "Python [conda env:mltf2]",
   "language": "python",
   "name": "conda-env-mltf2-py"
  },
  "language_info": {
   "codemirror_mode": {
    "name": "ipython",
    "version": 3
   },
   "file_extension": ".py",
   "mimetype": "text/x-python",
   "name": "python",
   "nbconvert_exporter": "python",
   "pygments_lexer": "ipython3",
   "version": "3.6.8"
  }
 },
 "nbformat": 4,
 "nbformat_minor": 2
}
