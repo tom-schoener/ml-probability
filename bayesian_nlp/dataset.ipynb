{
 "cells": [
  {
   "cell_type": "markdown",
   "metadata": {},
   "source": [
    "# IMDB Dataset"
   ]
  },
  {
   "cell_type": "code",
   "execution_count": 1,
   "metadata": {},
   "outputs": [
    {
     "name": "stdout",
     "output_type": "stream",
     "text": [
      "Tensorflow Version: 2.0.0-beta1\n",
      "Tensorflow Probability Version: 0.8.0-dev20190619\n",
      "Found GPU: /device:GPU:0\n"
     ]
    }
   ],
   "source": [
    "from __future__ import absolute_import\n",
    "from __future__ import division\n",
    "from __future__ import print_function\n",
    "\n",
    "%matplotlib inline\n",
    "\n",
    "import matplotlib.pyplot as plt\n",
    "import pandas as pd\n",
    "import numpy as np\n",
    "import tensorflow as tf\n",
    "import tensorflow_probability as tfp\n",
    "\n",
    "tfk = tf.keras\n",
    "tfkl = tfk.layers \n",
    "tfd = tfp.distributions\n",
    "tfpl = tfp.layers\n",
    "\n",
    "print(\"Tensorflow Version: %s\" % tf.__version__)\n",
    "print(\"Tensorflow Probability Version: %s\" % tfp.__version__)\n",
    "\n",
    "if tf.test.gpu_device_name() != '/device:GPU:0':\n",
    "    print('GPU device not found. Using CPU')\n",
    "else:\n",
    "    print('Found GPU: {}'.format(tf.test.gpu_device_name()))"
   ]
  },
  {
   "cell_type": "code",
   "execution_count": 2,
   "metadata": {},
   "outputs": [
    {
     "name": "stdout",
     "output_type": "stream",
     "text": [
      "Tensorflow Version: 2.0.0-beta1\n",
      "Tensorflow Probability Version: 0.8.0-dev20190619\n",
      "Found GPU: /device:GPU:0\n",
      "Tensorflow Version: 2.0.0-beta1\n",
      "Tensorflow Probability Version: 0.8.0-dev20190619\n",
      "Found GPU: /device:GPU:0\n"
     ]
    },
    {
     "data": {
      "text/plain": [
       "<module 'models' from 'D:\\\\Tom\\\\Documents\\\\gitworkspace\\\\master\\\\ml-probability\\\\tfp_word_embeddings\\\\models.py'>"
      ]
     },
     "execution_count": 2,
     "metadata": {},
     "output_type": "execute_result"
    }
   ],
   "source": [
    "# load commons and models module\n",
    "import os\n",
    "import sys\n",
    "import importlib\n",
    "\n",
    "module_path = os.path.abspath(os.path.join('..'))\n",
    "if module_path not in sys.path:\n",
    "    sys.path.append(module_path)\n",
    "\n",
    "import commons as cm\n",
    "importlib.reload(cm)"
   ]
  },
  {
   "cell_type": "code",
   "execution_count": 99,
   "metadata": {},
   "outputs": [
    {
     "name": "stdout",
     "output_type": "stream",
     "text": [
      "[1, 132, 8, 132, 497, 254, 8, 30, 6, 52, 20, 12, 47, 94, 483, 33, 4, 208, 273, 12, 16914, 8, 30, 1711, 5, 12, 47, 6, 749, 15, 57, 824, 1462, 80, 1144, 21, 50, 1838, 82, 49, 7, 4, 712, 7, 14, 431, 12, 12030, 38, 254, 8, 30, 52, 5, 8, 79, 94, 749, 638, 15, 518, 4, 529, 215, 235, 23564, 38, 12, 9, 64, 3927, 15, 4, 1218, 63, 26, 343, 34, 14, 431, 26, 4274, 132, 8, 132, 152, 387, 4, 529, 1197, 51, 29, 1291, 9, 208, 21, 9, 21398, 94, 749, 11, 27, 419, 2315, 10742, 14658, 14, 11, 27, 217, 29, 127, 27, 118, 8, 168, 1947, 2070, 1681, 5, 32, 4, 85, 1438, 25, 70, 2623, 19, 4, 686, 31, 2752, 2827, 27, 10395, 47, 8, 1464, 763, 15, 4, 20, 9, 5585, 5, 1978, 94, 2125, 949, 4, 130, 25, 62, 30, 714, 1638, 8, 4, 1174, 15, 132, 8, 132, 9, 24, 290, 149, 21, 50, 26, 195, 757, 8, 4478, 12, 12, 9, 441, 47, 49, 1984, 139, 5, 4, 123, 3247, 13365, 1091, 2102, 7, 265, 25, 144, 24, 1661, 12, 8, 16985, 4890, 40, 4, 4491, 132, 628, 2219, 21, 490, 30, 1200, 4, 1716, 4095, 12, 497, 8, 4003, 129, 483, 60, 48, 129, 1224, 1291, 15, 12, 9, 99, 578, 5, 2880, 91, 7, 4, 58] 0\n"
     ]
    }
   ],
   "source": [
    "(x_train, y_train), (x_test, y_test) = cm.load_imdb(1.0)\n",
    "word_index = cm.WordIndex(embedding_dim=50)\n",
    "print(x_train[0], y_train[0])"
   ]
  },
  {
   "cell_type": "code",
   "execution_count": 95,
   "metadata": {},
   "outputs": [
    {
     "name": "stdout",
     "output_type": "stream",
     "text": [
      "Threshold: 950 -> 390/50000 (0.78%) are not under the threshold\n",
      "mean: 234\n",
      "0.00 Quantile: 7 \n",
      "0.25 Quantile: 129 \n",
      "0.50 Quantile: 176 \n",
      "0.75 Quantile: 285 \n",
      "0.95 Quantile: 598 \n",
      "1.00 Quantile: 2494 \n"
     ]
    },
    {
     "data": {
      "image/png": "[encoded data removed]",
      "text/plain": [
       "<Figure size 432x288 with 1 Axes>"
      ]
     },
     "metadata": {
      "needs_background": "light"
     },
     "output_type": "display_data"
    }
   ],
   "source": [
    "word_counts = [len(n) for n in [*x_train, *x_test]]\n",
    "threshold = 950\n",
    "over_threshold_n = np.sum(np.array(word_counts) > threshold)\n",
    "\n",
    "print(\"Threshold: %i -> %i/%i (%.2f%%) are not under the threshold\" % (threshold, \n",
    "                                                                       over_threshold_n, \n",
    "                                                                       len([*x_train, *x_test]), \n",
    "                                                                       100 * over_threshold_n / len([*x_train, *x_test])))\n",
    "\n",
    "print(\"mean: %i\" % np.mean(word_counts))\n",
    "for q in [0, 0.25, 0.5, 0.75, 0.95, 1.0]:\n",
    "    print(\"%.2f Quantile: %i \" % (q, np.quantile(word_counts, q=q)))\n",
    "\n",
    "fig, ax = plt.subplots()\n",
    "plt.hist(word_counts, bins=75)\n",
    "plt.axvline(x=threshold, color=\"black\", linestyle=\"--\")\n",
    "plt.xlabel(\"word count\")\n",
    "plt.ylabel(\"number of entries\")\n",
    "plt.title(\"IMDB Dataset word count\")\n",
    "plt.savefig(\"D:/google drive/haw/master/mastertheisis/hauptprojekt/dataset/imdb_word_count.pdf\")\n",
    "plt.show()"
   ]
  },
  {
   "cell_type": "code",
   "execution_count": 100,
   "metadata": {},
   "outputs": [
    {
     "name": "stdout",
     "output_type": "stream",
     "text": [
      "<START> man to man tries hard to be a good movie it has its heart at the right place it aspires to be epic and it has a message that no doubt everybody will appreciate but there lies also some of the problems of this picture it strives so hard to be good and to get its message across that sometimes the viewer must feel unchallenged so it is only adequate that the images which are used by this picture are simplistic man to man doesn't let the viewer decide what he thinks is right but is hammering its message in his head joseph fiennes exemplifies this in his role he does his best to look concerned genuinely moved and all the other emotions you can express with the single one facial expression his repertoire has to offer add that the movie is overlong and loses its speed towards the end you would be easily led to the conclusion that man to man is not worth watching but there are enough points to defend it it is entertaining has some humorous scenes and the show stealing kristin scott thomas of course you should not compare it to humanistic masterpieces like the elephant man david lynch but you'll be leaving the theatre satisfied it tries to grab your heart even if your brain thinks that it is too obvious and succeeds most of the time\n"
     ]
    }
   ],
   "source": [
    "# parsed sentence\n",
    "print(word_index.vec2sentence(x_train[0]))"
   ]
  }
 ],
 "metadata": {
  "kernelspec": {
   "display_name": "Python [conda env:mltf2]",
   "language": "python",
   "name": "conda-env-mltf2-py"
  },
  "language_info": {
   "codemirror_mode": {
    "name": "ipython",
    "version": 3
   },
   "file_extension": ".py",
   "mimetype": "text/x-python",
   "name": "python",
   "nbconvert_exporter": "python",
   "pygments_lexer": "ipython3",
   "version": "3.6.8"
  }
 },
 "nbformat": 4,
 "nbformat_minor": 2
}
